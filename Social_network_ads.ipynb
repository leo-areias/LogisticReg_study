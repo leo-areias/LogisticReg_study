{
 "cells": [
  {
   "cell_type": "code",
   "execution_count": 1,
   "id": "54f2c18f-6957-477b-9a2c-1e19c7cfadda",
   "metadata": {},
   "outputs": [],
   "source": [
    "import pandas as pd\n",
    "import matplotlib.pyplot as plt\n",
    "import numpy as np\n",
    "from sklearn.linear_model import LogisticRegression \n",
    "from sklearn.model_selection import train_test_split\n",
    "from sklearn.metrics import classification_report"
   ]
  },
  {
   "cell_type": "code",
   "execution_count": 2,
   "id": "d1aae579-34c1-4dd5-9b27-f4e977ab8d02",
   "metadata": {},
   "outputs": [],
   "source": [
    "df = pd.read_csv('./Social_Network_Ads.csv.xls')"
   ]
  },
  {
   "cell_type": "code",
   "execution_count": 3,
   "id": "452f74e1-0438-4958-b393-6965fa889e2d",
   "metadata": {},
   "outputs": [
    {
     "data": {
      "text/html": [
       "<div>\n",
       "<style scoped>\n",
       "    .dataframe tbody tr th:only-of-type {\n",
       "        vertical-align: middle;\n",
       "    }\n",
       "\n",
       "    .dataframe tbody tr th {\n",
       "        vertical-align: top;\n",
       "    }\n",
       "\n",
       "    .dataframe thead th {\n",
       "        text-align: right;\n",
       "    }\n",
       "</style>\n",
       "<table border=\"1\" class=\"dataframe\">\n",
       "  <thead>\n",
       "    <tr style=\"text-align: right;\">\n",
       "      <th></th>\n",
       "      <th>User ID</th>\n",
       "      <th>Gender</th>\n",
       "      <th>Age</th>\n",
       "      <th>EstimatedSalary</th>\n",
       "      <th>Purchased</th>\n",
       "    </tr>\n",
       "  </thead>\n",
       "  <tbody>\n",
       "    <tr>\n",
       "      <th>0</th>\n",
       "      <td>15624510</td>\n",
       "      <td>Male</td>\n",
       "      <td>19</td>\n",
       "      <td>19000</td>\n",
       "      <td>0</td>\n",
       "    </tr>\n",
       "    <tr>\n",
       "      <th>1</th>\n",
       "      <td>15810944</td>\n",
       "      <td>Male</td>\n",
       "      <td>35</td>\n",
       "      <td>20000</td>\n",
       "      <td>0</td>\n",
       "    </tr>\n",
       "    <tr>\n",
       "      <th>2</th>\n",
       "      <td>15668575</td>\n",
       "      <td>Female</td>\n",
       "      <td>26</td>\n",
       "      <td>43000</td>\n",
       "      <td>0</td>\n",
       "    </tr>\n",
       "    <tr>\n",
       "      <th>3</th>\n",
       "      <td>15603246</td>\n",
       "      <td>Female</td>\n",
       "      <td>27</td>\n",
       "      <td>57000</td>\n",
       "      <td>0</td>\n",
       "    </tr>\n",
       "    <tr>\n",
       "      <th>4</th>\n",
       "      <td>15804002</td>\n",
       "      <td>Male</td>\n",
       "      <td>19</td>\n",
       "      <td>76000</td>\n",
       "      <td>0</td>\n",
       "    </tr>\n",
       "  </tbody>\n",
       "</table>\n",
       "</div>"
      ],
      "text/plain": [
       "    User ID  Gender  Age  EstimatedSalary  Purchased\n",
       "0  15624510    Male   19            19000          0\n",
       "1  15810944    Male   35            20000          0\n",
       "2  15668575  Female   26            43000          0\n",
       "3  15603246  Female   27            57000          0\n",
       "4  15804002    Male   19            76000          0"
      ]
     },
     "execution_count": 3,
     "metadata": {},
     "output_type": "execute_result"
    }
   ],
   "source": [
    "df.head()"
   ]
  },
  {
   "cell_type": "code",
   "execution_count": 4,
   "id": "a224f001-914e-4fba-8be8-a83be2b5fb19",
   "metadata": {},
   "outputs": [
    {
     "data": {
      "text/plain": [
       "User ID            0\n",
       "Gender             0\n",
       "Age                0\n",
       "EstimatedSalary    0\n",
       "Purchased          0\n",
       "dtype: int64"
      ]
     },
     "execution_count": 4,
     "metadata": {},
     "output_type": "execute_result"
    }
   ],
   "source": [
    "df.isna().sum()"
   ]
  },
  {
   "cell_type": "code",
   "execution_count": 5,
   "id": "19fac2fc-e09c-4bba-9114-1fe056d6f1b0",
   "metadata": {},
   "outputs": [
    {
     "name": "stdout",
     "output_type": "stream",
     "text": [
      "User ID: [15624510 15810944 15668575 15603246 15804002 15728773 15598044 15694829\n",
      " 15600575 15727311 15570769 15606274 15746139 15704987 15628972 15697686\n",
      " 15733883 15617482 15704583 15621083 15649487 15736760 15714658 15599081\n",
      " 15705113 15631159 15792818 15633531 15744529 15669656 15581198 15729054\n",
      " 15573452 15776733 15724858 15713144 15690188 15689425 15671766 15782806\n",
      " 15764419 15591915 15772798 15792008 15715541 15639277 15798850 15776348\n",
      " 15727696 15793813 15694395 15764195 15744919 15671655 15654901 15649136\n",
      " 15775562 15807481 15642885 15789109 15814004 15673619 15595135 15583681\n",
      " 15605000 15718071 15679760 15654574 15577178 15595324 15756932 15726358\n",
      " 15595228 15782530 15592877 15651983 15746737 15774179 15667265 15655123\n",
      " 15595917 15668385 15709476 15711218 15798659 15663939 15694946 15631912\n",
      " 15768816 15682268 15684801 15636428 15809823 15699284 15786993 15709441\n",
      " 15710257 15582492 15575694 15756820 15766289 15593014 15584545 15675949\n",
      " 15672091 15801658 15706185 15789863 15720943 15697997 15665416 15660200\n",
      " 15619653 15773447 15739160 15689237 15679297 15591433 15642725 15701962\n",
      " 15811613 15741049 15724423 15574305 15678168 15697020 15610801 15745232\n",
      " 15722758 15792102 15675185 15801247 15725660 15638963 15800061 15578006\n",
      " 15668504 15687491 15610403 15741094 15807909 15666141 15617134 15783029\n",
      " 15622833 15746422 15750839 15749130 15779862 15767871 15679651 15576219\n",
      " 15699247 15619087 15605327 15610140 15791174 15602373 15762605 15598840\n",
      " 15744279 15670619 15599533 15757837 15697574 15578738 15762228 15614827\n",
      " 15789815 15579781 15587013 15570932 15794661 15581654 15644296 15614420\n",
      " 15609653 15594577 15584114 15673367 15685576 15774727 15694288 15603319\n",
      " 15759066 15814816 15724402 15571059 15674206 15715160 15730448 15662067\n",
      " 15779581 15662901 15689751 15667742 15738448 15680243 15745083 15708228\n",
      " 15628523 15708196 15735549 15809347 15660866 15766609 15654230 15794566\n",
      " 15800890 15697424 15724536 15735878 15707596 15657163 15622478 15779529\n",
      " 15636023 15582066 15666675 15732987 15789432 15663161 15694879 15593715\n",
      " 15575002 15622171 15795224 15685346 15691808 15721007 15794253 15694453\n",
      " 15813113 15614187 15619407 15646227 15660541 15753874 15617877 15772073\n",
      " 15701537 15736228 15780572 15769596 15586996 15722061 15638003 15775590\n",
      " 15730688 15753102 15810075 15723373 15795298 15584320 15724161 15750056\n",
      " 15609637 15794493 15569641 15815236 15811177 15680587 15672821 15767681\n",
      " 15600379 15801336 15721592 15581282 15746203 15583137 15680752 15688172\n",
      " 15791373 15589449 15692819 15727467 15734312 15764604 15613014 15759684\n",
      " 15609669 15685536 15750447 15663249 15638646 15734161 15631070 15761950\n",
      " 15649668 15713912 15586757 15596522 15625395 15760570 15566689 15725794\n",
      " 15673539 15705298 15675791 15747043 15736397 15678201 15720745 15637593\n",
      " 15598070 15787550 15603942 15733973 15596761 15652400 15717893 15622585\n",
      " 15733964 15753861 15747097 15594762 15667417 15684861 15742204 15623502\n",
      " 15774872 15611191 15674331 15619465 15575247 15695679 15713463 15785170\n",
      " 15796351 15639576 15693264 15589715 15769902 15587177 15814553 15601550\n",
      " 15664907 15612465 15810800 15665760 15588080 15776844 15717560 15629739\n",
      " 15729908 15716781 15646936 15768151 15579212 15721835 15800515 15591279\n",
      " 15587419 15750335 15699619 15606472 15778368 15671387 15573926 15709183\n",
      " 15577514 15778830 15768072 15768293 15654456 15807525 15574372 15671249\n",
      " 15779744 15624755 15611430 15774744 15629885 15708791 15793890 15646091\n",
      " 15596984 15800215 15577806 15749381 15683758 15670615 15715622 15707634\n",
      " 15806901 15775335 15724150 15627220 15672330 15668521 15807837 15592570\n",
      " 15748589 15635893 15757632 15691863 15706071 15654296 15755018 15594041]\n",
      "\n",
      "Gender: ['Male' 'Female']\n",
      "\n",
      "Age: [19 35 26 27 32 25 20 18 29 47 45 46 48 49 31 21 28 33 30 23 24 22 59 34\n",
      " 39 38 37 42 40 36 41 58 55 52 60 56 53 50 51 57 44 43 54]\n",
      "\n",
      "EstimatedSalary: [ 19000  20000  43000  57000  76000  58000  84000 150000  33000  65000\n",
      "  80000  52000  86000  18000  82000  25000  26000  28000  29000  22000\n",
      "  49000  41000  23000  30000  74000 137000  16000  44000  90000  27000\n",
      "  72000  31000  17000  51000 108000  15000  79000  54000 135000  89000\n",
      "  32000  83000  55000  48000 117000  87000  66000 120000  63000  68000\n",
      " 113000 112000  42000  88000  62000 118000  85000  81000  50000 116000\n",
      " 123000  73000  37000  59000 149000  21000  35000  71000  61000  75000\n",
      "  53000 107000  96000  45000  47000 100000  38000  69000 148000 115000\n",
      "  34000  60000  70000  36000  39000 134000 101000 130000 114000 142000\n",
      "  78000 143000  91000 144000 102000 126000 133000 147000 104000 146000\n",
      " 122000  97000  95000 131000  77000 125000 106000 141000  93000 138000\n",
      " 119000 105000  99000 129000  46000  64000 139000]\n",
      "\n",
      "Purchased: [0 1]\n",
      "\n"
     ]
    }
   ],
   "source": [
    "for col in df.columns:\n",
    "    print(f\"{col}: {df[col].unique()}\\n\")"
   ]
  },
  {
   "cell_type": "markdown",
   "id": "8a689273-ba1e-4046-969d-9a8de12f8fc6",
   "metadata": {},
   "source": [
    "#### First thing we got to do is drop the User ID column, because it will not be usefull for us in any way."
   ]
  },
  {
   "cell_type": "code",
   "execution_count": 6,
   "id": "f76c9ed3-1196-491d-b80f-770a85641f6d",
   "metadata": {},
   "outputs": [],
   "source": [
    "df = df.drop(columns = ['User ID'])"
   ]
  },
  {
   "cell_type": "code",
   "execution_count": 7,
   "id": "83960015-6869-4dac-a551-240ce6411872",
   "metadata": {},
   "outputs": [
    {
     "data": {
      "text/html": [
       "<div>\n",
       "<style scoped>\n",
       "    .dataframe tbody tr th:only-of-type {\n",
       "        vertical-align: middle;\n",
       "    }\n",
       "\n",
       "    .dataframe tbody tr th {\n",
       "        vertical-align: top;\n",
       "    }\n",
       "\n",
       "    .dataframe thead th {\n",
       "        text-align: right;\n",
       "    }\n",
       "</style>\n",
       "<table border=\"1\" class=\"dataframe\">\n",
       "  <thead>\n",
       "    <tr style=\"text-align: right;\">\n",
       "      <th></th>\n",
       "      <th>Gender</th>\n",
       "      <th>Age</th>\n",
       "      <th>EstimatedSalary</th>\n",
       "      <th>Purchased</th>\n",
       "    </tr>\n",
       "  </thead>\n",
       "  <tbody>\n",
       "    <tr>\n",
       "      <th>0</th>\n",
       "      <td>Male</td>\n",
       "      <td>19</td>\n",
       "      <td>19000</td>\n",
       "      <td>0</td>\n",
       "    </tr>\n",
       "    <tr>\n",
       "      <th>1</th>\n",
       "      <td>Male</td>\n",
       "      <td>35</td>\n",
       "      <td>20000</td>\n",
       "      <td>0</td>\n",
       "    </tr>\n",
       "    <tr>\n",
       "      <th>2</th>\n",
       "      <td>Female</td>\n",
       "      <td>26</td>\n",
       "      <td>43000</td>\n",
       "      <td>0</td>\n",
       "    </tr>\n",
       "    <tr>\n",
       "      <th>3</th>\n",
       "      <td>Female</td>\n",
       "      <td>27</td>\n",
       "      <td>57000</td>\n",
       "      <td>0</td>\n",
       "    </tr>\n",
       "    <tr>\n",
       "      <th>4</th>\n",
       "      <td>Male</td>\n",
       "      <td>19</td>\n",
       "      <td>76000</td>\n",
       "      <td>0</td>\n",
       "    </tr>\n",
       "  </tbody>\n",
       "</table>\n",
       "</div>"
      ],
      "text/plain": [
       "   Gender  Age  EstimatedSalary  Purchased\n",
       "0    Male   19            19000          0\n",
       "1    Male   35            20000          0\n",
       "2  Female   26            43000          0\n",
       "3  Female   27            57000          0\n",
       "4    Male   19            76000          0"
      ]
     },
     "execution_count": 7,
     "metadata": {},
     "output_type": "execute_result"
    }
   ],
   "source": [
    "df.head()"
   ]
  },
  {
   "cell_type": "markdown",
   "id": "ac6b4cf5-790c-495b-8e43-398b94cca4b3",
   "metadata": {},
   "source": [
    "### Exploratory Analysis\n",
    "\n",
    "1. Lets see the distribution of each column, we can see more of this information with the **.describe** method.\n"
   ]
  },
  {
   "cell_type": "code",
   "execution_count": 8,
   "id": "81f51f85-8b53-4e7b-bee1-82d3cb8aea9b",
   "metadata": {},
   "outputs": [
    {
     "data": {
      "text/html": [
       "<div>\n",
       "<style scoped>\n",
       "    .dataframe tbody tr th:only-of-type {\n",
       "        vertical-align: middle;\n",
       "    }\n",
       "\n",
       "    .dataframe tbody tr th {\n",
       "        vertical-align: top;\n",
       "    }\n",
       "\n",
       "    .dataframe thead th {\n",
       "        text-align: right;\n",
       "    }\n",
       "</style>\n",
       "<table border=\"1\" class=\"dataframe\">\n",
       "  <thead>\n",
       "    <tr style=\"text-align: right;\">\n",
       "      <th></th>\n",
       "      <th>Age</th>\n",
       "      <th>EstimatedSalary</th>\n",
       "      <th>Purchased</th>\n",
       "    </tr>\n",
       "  </thead>\n",
       "  <tbody>\n",
       "    <tr>\n",
       "      <th>count</th>\n",
       "      <td>400.000000</td>\n",
       "      <td>400.000000</td>\n",
       "      <td>400.000000</td>\n",
       "    </tr>\n",
       "    <tr>\n",
       "      <th>mean</th>\n",
       "      <td>37.655000</td>\n",
       "      <td>69742.500000</td>\n",
       "      <td>0.357500</td>\n",
       "    </tr>\n",
       "    <tr>\n",
       "      <th>std</th>\n",
       "      <td>10.482877</td>\n",
       "      <td>34096.960282</td>\n",
       "      <td>0.479864</td>\n",
       "    </tr>\n",
       "    <tr>\n",
       "      <th>min</th>\n",
       "      <td>18.000000</td>\n",
       "      <td>15000.000000</td>\n",
       "      <td>0.000000</td>\n",
       "    </tr>\n",
       "    <tr>\n",
       "      <th>25%</th>\n",
       "      <td>29.750000</td>\n",
       "      <td>43000.000000</td>\n",
       "      <td>0.000000</td>\n",
       "    </tr>\n",
       "    <tr>\n",
       "      <th>50%</th>\n",
       "      <td>37.000000</td>\n",
       "      <td>70000.000000</td>\n",
       "      <td>0.000000</td>\n",
       "    </tr>\n",
       "    <tr>\n",
       "      <th>75%</th>\n",
       "      <td>46.000000</td>\n",
       "      <td>88000.000000</td>\n",
       "      <td>1.000000</td>\n",
       "    </tr>\n",
       "    <tr>\n",
       "      <th>max</th>\n",
       "      <td>60.000000</td>\n",
       "      <td>150000.000000</td>\n",
       "      <td>1.000000</td>\n",
       "    </tr>\n",
       "  </tbody>\n",
       "</table>\n",
       "</div>"
      ],
      "text/plain": [
       "              Age  EstimatedSalary   Purchased\n",
       "count  400.000000       400.000000  400.000000\n",
       "mean    37.655000     69742.500000    0.357500\n",
       "std     10.482877     34096.960282    0.479864\n",
       "min     18.000000     15000.000000    0.000000\n",
       "25%     29.750000     43000.000000    0.000000\n",
       "50%     37.000000     70000.000000    0.000000\n",
       "75%     46.000000     88000.000000    1.000000\n",
       "max     60.000000    150000.000000    1.000000"
      ]
     },
     "execution_count": 8,
     "metadata": {},
     "output_type": "execute_result"
    }
   ],
   "source": [
    "df.describe()"
   ]
  },
  {
   "cell_type": "markdown",
   "id": "c3132ef2-9acc-44aa-88df-34f3c24aca60",
   "metadata": {},
   "source": [
    "#### Well although we can see usefull information from the describe method, it is not easy to see anything, lets try to plot a histogram with the data\n",
    "\n",
    "2. To plot a histogram to see the distribution of the data we can use the **.plt.hist(data)**"
   ]
  },
  {
   "cell_type": "code",
   "execution_count": 9,
   "id": "09f38b80-806c-4616-8ec1-1624d918a25f",
   "metadata": {},
   "outputs": [
    {
     "data": {
      "image/png": "[encoded data removed]",
      "text/plain": [
       "<Figure size 640x480 with 1 Axes>"
      ]
     },
     "metadata": {},
     "output_type": "display_data"
    }
   ],
   "source": [
    "grouped_data = df.groupby(['Gender', 'Purchased']).size().unstack(fill_value=0)\n",
    "\n",
    "# Plot the histogram\n",
    "grouped_data.plot(kind='bar', stacked=True)\n",
    "plt.title('Purchases by Gender')\n",
    "plt.xlabel('Gender')\n",
    "plt.ylabel('Count')\n",
    "plt.xticks(rotation=0)\n",
    "plt.legend(title='Purchase', labels=['No (0)', 'Yes (1)'])\n",
    "plt.show()"
   ]
  },
  {
   "cell_type": "code",
   "execution_count": 10,
   "id": "b7c74345-73f7-4048-8937-6a6be21ec0f9",
   "metadata": {},
   "outputs": [
    {
     "data": {
      "image/png": "[encoded data removed]",
      "text/plain": [
       "<Figure size 640x480 with 1 Axes>"
      ]
     },
     "metadata": {},
     "output_type": "display_data"
    }
   ],
   "source": [
    "from scipy.stats import norm\n",
    "\n",
    "# Plot the histogram\n",
    "plt.hist(df['EstimatedSalary'], bins=10, density=True, alpha=1.0, edgecolor='white')\n",
    "\n",
    "# Calculate the mean and standard deviation\n",
    "mean = df['EstimatedSalary'].mean()\n",
    "std = df['EstimatedSalary'].std()\n",
    "\n",
    "# Generate a range of values for the normal distribution\n",
    "x = np.linspace(df['EstimatedSalary'].min(), df['EstimatedSalary'].max(), 1000)\n",
    "pdf = norm.pdf(x, mean, std)\n",
    "\n",
    "# Plot the normal distribution\n",
    "plt.plot(x, pdf, 'r', linewidth=2)\n",
    "plt.title('Histogram with Normal Distribution')\n",
    "plt.xlabel('Estimated Salary')\n",
    "plt.ylabel('Density')\n",
    "plt.show()"
   ]
  },
  {
   "cell_type": "markdown",
   "id": "0f360310-666b-4ada-8898-cc358fdaf47c",
   "metadata": {},
   "source": [
    "### Lets treat our data\n",
    "\n",
    "#### For that we have to remember that not only models normally dont accept categorical values, but it is also required it to be in numerical values for both the model and for correlation matrix because its heatmap require numerical values for the correlation coefficient (e.g., Pearson correlation) which is a numerical measure of the linear relationship between two variables.\n",
    "\n",
    "1. So first lets see our data types in our dataset.\n",
    "2. Then we have to convert the categorical types to int/float"
   ]
  },
  {
   "cell_type": "code",
   "execution_count": 11,
   "id": "2f95c633-3d36-433b-a699-49dfc7429732",
   "metadata": {},
   "outputs": [
    {
     "data": {
      "text/plain": [
       "Gender             object\n",
       "Age                 int64\n",
       "EstimatedSalary     int64\n",
       "Purchased           int64\n",
       "dtype: object"
      ]
     },
     "execution_count": 11,
     "metadata": {},
     "output_type": "execute_result"
    }
   ],
   "source": [
    "#1\n",
    "df.dtypes"
   ]
  },
  {
   "cell_type": "code",
   "execution_count": 12,
   "id": "da98c3b7-4ae0-44e9-ba8d-6888f14c0d04",
   "metadata": {},
   "outputs": [
    {
     "name": "stdout",
     "output_type": "stream",
     "text": [
      "     Gender  Age  EstimatedSalary  Purchased\n",
      "0         1   19            19000          0\n",
      "1         1   35            20000          0\n",
      "2         0   26            43000          0\n",
      "3         0   27            57000          0\n",
      "4         1   19            76000          0\n",
      "..      ...  ...              ...        ...\n",
      "395       0   46            41000          1\n",
      "396       1   51            23000          1\n",
      "397       0   50            20000          1\n",
      "398       1   36            33000          0\n",
      "399       0   49            36000          1\n",
      "\n",
      "[400 rows x 4 columns]\n"
     ]
    }
   ],
   "source": [
    "#2\n",
    "#Right our only categorical data is the Gender column as a type object, lets transform it with Pipelines\n",
    "from sklearn.pipeline import Pipeline\n",
    "from sklearn.preprocessing import LabelEncoder, FunctionTransformer\n",
    "\n",
    "# Function to transform Gender column\n",
    "def label_encode_gender(df):\n",
    "    encoder = LabelEncoder()\n",
    "    df['Gender'] = encoder.fit_transform(df['Gender'])\n",
    "    return df\n",
    "\n",
    "# Create a pipeline with a custom transformer\n",
    "pipeline = Pipeline([\n",
    "    ('gender_label_encoding', FunctionTransformer(label_encode_gender))\n",
    "])\n",
    "\n",
    "# Transform the data\n",
    "df_transformed = pipeline.fit_transform(df)\n",
    "print(df_transformed)"
   ]
  },
  {
   "cell_type": "code",
   "execution_count": null,
   "id": "80a753fa-744a-4ef4-a2d1-7c002af4a731",
   "metadata": {},
   "outputs": [],
   "source": []
  }
 ],
 "metadata": {
  "kernelspec": {
   "display_name": "Python 3 (ipykernel)",
   "language": "python",
   "name": "python3"
  },
  "language_info": {
   "codemirror_mode": {
    "name": "ipython",
    "version": 3
   },
   "file_extension": ".py",
   "mimetype": "text/x-python",
   "name": "python",
   "nbconvert_exporter": "python",
   "pygments_lexer": "ipython3",
   "version": "3.12.2"
  }
 },
 "nbformat": 4,
 "nbformat_minor": 5
}
