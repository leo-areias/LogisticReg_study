{
 "cells": [
  {
   "cell_type": "code",
   "execution_count": 205,
   "id": "54f2c18f-6957-477b-9a2c-1e19c7cfadda",
   "metadata": {},
   "outputs": [],
   "source": [
    "import pandas as pd\n",
    "import matplotlib.pyplot as plt\n",
    "import numpy as np\n",
    "import seaborn as sns\n",
    "from sklearn.linear_model import LogisticRegression \n",
    "from sklearn.model_selection import train_test_split\n",
    "from sklearn.metrics import classification_report"
   ]
  },
  {
   "cell_type": "code",
   "execution_count": 206,
   "id": "d1aae579-34c1-4dd5-9b27-f4e977ab8d02",
   "metadata": {},
   "outputs": [],
   "source": [
    "df = pd.read_csv('./Social_Network_Ads.csv.xls')"
   ]
  },
  {
   "cell_type": "code",
   "execution_count": 207,
   "id": "452f74e1-0438-4958-b393-6965fa889e2d",
   "metadata": {},
   "outputs": [
    {
     "data": {
      "text/html": [
       "<div>\n",
       "<style scoped>\n",
       "    .dataframe tbody tr th:only-of-type {\n",
       "        vertical-align: middle;\n",
       "    }\n",
       "\n",
       "    .dataframe tbody tr th {\n",
       "        vertical-align: top;\n",
       "    }\n",
       "\n",
       "    .dataframe thead th {\n",
       "        text-align: right;\n",
       "    }\n",
       "</style>\n",
       "<table border=\"1\" class=\"dataframe\">\n",
       "  <thead>\n",
       "    <tr style=\"text-align: right;\">\n",
       "      <th></th>\n",
       "      <th>User ID</th>\n",
       "      <th>Gender</th>\n",
       "      <th>Age</th>\n",
       "      <th>EstimatedSalary</th>\n",
       "      <th>Purchased</th>\n",
       "    </tr>\n",
       "  </thead>\n",
       "  <tbody>\n",
       "    <tr>\n",
       "      <th>0</th>\n",
       "      <td>15624510</td>\n",
       "      <td>Male</td>\n",
       "      <td>19</td>\n",
       "      <td>19000</td>\n",
       "      <td>0</td>\n",
       "    </tr>\n",
       "    <tr>\n",
       "      <th>1</th>\n",
       "      <td>15810944</td>\n",
       "      <td>Male</td>\n",
       "      <td>35</td>\n",
       "      <td>20000</td>\n",
       "      <td>0</td>\n",
       "    </tr>\n",
       "    <tr>\n",
       "      <th>2</th>\n",
       "      <td>15668575</td>\n",
       "      <td>Female</td>\n",
       "      <td>26</td>\n",
       "      <td>43000</td>\n",
       "      <td>0</td>\n",
       "    </tr>\n",
       "    <tr>\n",
       "      <th>3</th>\n",
       "      <td>15603246</td>\n",
       "      <td>Female</td>\n",
       "      <td>27</td>\n",
       "      <td>57000</td>\n",
       "      <td>0</td>\n",
       "    </tr>\n",
       "    <tr>\n",
       "      <th>4</th>\n",
       "      <td>15804002</td>\n",
       "      <td>Male</td>\n",
       "      <td>19</td>\n",
       "      <td>76000</td>\n",
       "      <td>0</td>\n",
       "    </tr>\n",
       "  </tbody>\n",
       "</table>\n",
       "</div>"
      ],
      "text/plain": [
       "    User ID  Gender  Age  EstimatedSalary  Purchased\n",
       "0  15624510    Male   19            19000          0\n",
       "1  15810944    Male   35            20000          0\n",
       "2  15668575  Female   26            43000          0\n",
       "3  15603246  Female   27            57000          0\n",
       "4  15804002    Male   19            76000          0"
      ]
     },
     "execution_count": 207,
     "metadata": {},
     "output_type": "execute_result"
    }
   ],
   "source": [
    "df.head()"
   ]
  },
  {
   "cell_type": "code",
   "execution_count": 231,
   "id": "a224f001-914e-4fba-8be8-a83be2b5fb19",
   "metadata": {},
   "outputs": [
    {
     "data": {
      "text/plain": [
       "Gender             0\n",
       "Age                0\n",
       "EstimatedSalary    0\n",
       "Purchased          0\n",
       "dtype: int64"
      ]
     },
     "execution_count": 231,
     "metadata": {},
     "output_type": "execute_result"
    }
   ],
   "source": [
    "# Check for null values\n",
    "df.isna().sum()"
   ]
  },
  {
   "cell_type": "markdown",
   "id": "8a689273-ba1e-4046-969d-9a8de12f8fc6",
   "metadata": {},
   "source": [
    "#### Removendo Colunas Desnecessárias\n",
    "\n",
    "Antes de iniciar a análise, precisamos remover a coluna **User ID**. \n",
    "\n",
    "Essa coluna não é útil para nossas previsões, pois não fornece informações significativas relacionadas à variável alvo."
   ]
  },
  {
   "cell_type": "code",
   "execution_count": 210,
   "id": "f76c9ed3-1196-491d-b80f-770a85641f6d",
   "metadata": {},
   "outputs": [],
   "source": [
    "df = df.drop(['User ID'],axis=1)"
   ]
  },
  {
   "cell_type": "code",
   "execution_count": 211,
   "id": "83960015-6869-4dac-a551-240ce6411872",
   "metadata": {},
   "outputs": [
    {
     "data": {
      "text/html": [
       "<div>\n",
       "<style scoped>\n",
       "    .dataframe tbody tr th:only-of-type {\n",
       "        vertical-align: middle;\n",
       "    }\n",
       "\n",
       "    .dataframe tbody tr th {\n",
       "        vertical-align: top;\n",
       "    }\n",
       "\n",
       "    .dataframe thead th {\n",
       "        text-align: right;\n",
       "    }\n",
       "</style>\n",
       "<table border=\"1\" class=\"dataframe\">\n",
       "  <thead>\n",
       "    <tr style=\"text-align: right;\">\n",
       "      <th></th>\n",
       "      <th>Gender</th>\n",
       "      <th>Age</th>\n",
       "      <th>EstimatedSalary</th>\n",
       "      <th>Purchased</th>\n",
       "    </tr>\n",
       "  </thead>\n",
       "  <tbody>\n",
       "    <tr>\n",
       "      <th>0</th>\n",
       "      <td>Male</td>\n",
       "      <td>19</td>\n",
       "      <td>19000</td>\n",
       "      <td>0</td>\n",
       "    </tr>\n",
       "    <tr>\n",
       "      <th>1</th>\n",
       "      <td>Male</td>\n",
       "      <td>35</td>\n",
       "      <td>20000</td>\n",
       "      <td>0</td>\n",
       "    </tr>\n",
       "    <tr>\n",
       "      <th>2</th>\n",
       "      <td>Female</td>\n",
       "      <td>26</td>\n",
       "      <td>43000</td>\n",
       "      <td>0</td>\n",
       "    </tr>\n",
       "    <tr>\n",
       "      <th>3</th>\n",
       "      <td>Female</td>\n",
       "      <td>27</td>\n",
       "      <td>57000</td>\n",
       "      <td>0</td>\n",
       "    </tr>\n",
       "    <tr>\n",
       "      <th>4</th>\n",
       "      <td>Male</td>\n",
       "      <td>19</td>\n",
       "      <td>76000</td>\n",
       "      <td>0</td>\n",
       "    </tr>\n",
       "  </tbody>\n",
       "</table>\n",
       "</div>"
      ],
      "text/plain": [
       "   Gender  Age  EstimatedSalary  Purchased\n",
       "0    Male   19            19000          0\n",
       "1    Male   35            20000          0\n",
       "2  Female   26            43000          0\n",
       "3  Female   27            57000          0\n",
       "4    Male   19            76000          0"
      ]
     },
     "execution_count": 211,
     "metadata": {},
     "output_type": "execute_result"
    }
   ],
   "source": [
    "df.head()"
   ]
  },
  {
   "cell_type": "code",
   "execution_count": 234,
   "id": "1a807934",
   "metadata": {},
   "outputs": [
    {
     "name": "stdout",
     "output_type": "stream",
     "text": [
      "Gender: [1 0]\n",
      "\n",
      "Age: [19 35 26 27 32 25 20 18 29 47 45 46 48 49 31 21 28 33 30 23 24 22 59 34\n",
      " 39 38 37 42 40 36 41 58 55 52 60 56 53 50 51 57 44 43 54]\n",
      "\n",
      "EstimatedSalary: [ 19000  20000  43000  57000  76000  58000  84000 150000  33000  65000\n",
      "  80000  52000  86000  18000  82000  25000  26000  28000  29000  22000\n",
      "  49000  41000  23000  30000  74000 137000  16000  44000  90000  27000\n",
      "  72000  31000  17000  51000 108000  15000  79000  54000 135000  89000\n",
      "  32000  83000  55000  48000 117000  87000  66000 120000  63000  68000\n",
      " 113000 112000  42000  88000  62000 118000  85000  81000  50000 116000\n",
      " 123000  73000  37000  59000 149000  21000  35000  71000  61000  75000\n",
      "  53000 107000  96000  45000  47000 100000  38000  69000 148000 115000\n",
      "  34000  60000  70000  36000  39000 134000 101000 130000 114000 142000\n",
      "  78000 143000  91000 144000 102000 126000 133000 147000 104000 146000\n",
      " 122000  97000  95000 131000  77000 125000 106000 141000  93000 138000\n",
      " 119000 105000  99000 129000  46000  64000 139000]\n",
      "\n",
      "Purchased: [0 1]\n",
      "\n"
     ]
    }
   ],
   "source": [
    "for col in df.columns:\n",
    "    print(f\"{col}: {df[col].unique()}\\n\")"
   ]
  },
  {
   "cell_type": "markdown",
   "id": "ac6b4cf5-790c-495b-8e43-398b94cca4b3",
   "metadata": {},
   "source": [
    "### Análise Exploratória de Dados (EDA)\n",
    "\n",
    "1. Compreendendo a Distribuição dos Dados\n",
    "\n",
    "    Começaremos examinando a distribuição de cada coluna usando o método **.describe()**. Isso nos permite resumir estatísticas-chave, como média, desvio padrão e percentis."
   ]
  },
  {
   "cell_type": "code",
   "execution_count": 212,
   "id": "81f51f85-8b53-4e7b-bee1-82d3cb8aea9b",
   "metadata": {},
   "outputs": [
    {
     "data": {
      "text/html": [
       "<div>\n",
       "<style scoped>\n",
       "    .dataframe tbody tr th:only-of-type {\n",
       "        vertical-align: middle;\n",
       "    }\n",
       "\n",
       "    .dataframe tbody tr th {\n",
       "        vertical-align: top;\n",
       "    }\n",
       "\n",
       "    .dataframe thead th {\n",
       "        text-align: right;\n",
       "    }\n",
       "</style>\n",
       "<table border=\"1\" class=\"dataframe\">\n",
       "  <thead>\n",
       "    <tr style=\"text-align: right;\">\n",
       "      <th></th>\n",
       "      <th>Age</th>\n",
       "      <th>EstimatedSalary</th>\n",
       "      <th>Purchased</th>\n",
       "    </tr>\n",
       "  </thead>\n",
       "  <tbody>\n",
       "    <tr>\n",
       "      <th>count</th>\n",
       "      <td>400.000000</td>\n",
       "      <td>400.000000</td>\n",
       "      <td>400.000000</td>\n",
       "    </tr>\n",
       "    <tr>\n",
       "      <th>mean</th>\n",
       "      <td>37.655000</td>\n",
       "      <td>69742.500000</td>\n",
       "      <td>0.357500</td>\n",
       "    </tr>\n",
       "    <tr>\n",
       "      <th>std</th>\n",
       "      <td>10.482877</td>\n",
       "      <td>34096.960282</td>\n",
       "      <td>0.479864</td>\n",
       "    </tr>\n",
       "    <tr>\n",
       "      <th>min</th>\n",
       "      <td>18.000000</td>\n",
       "      <td>15000.000000</td>\n",
       "      <td>0.000000</td>\n",
       "    </tr>\n",
       "    <tr>\n",
       "      <th>25%</th>\n",
       "      <td>29.750000</td>\n",
       "      <td>43000.000000</td>\n",
       "      <td>0.000000</td>\n",
       "    </tr>\n",
       "    <tr>\n",
       "      <th>50%</th>\n",
       "      <td>37.000000</td>\n",
       "      <td>70000.000000</td>\n",
       "      <td>0.000000</td>\n",
       "    </tr>\n",
       "    <tr>\n",
       "      <th>75%</th>\n",
       "      <td>46.000000</td>\n",
       "      <td>88000.000000</td>\n",
       "      <td>1.000000</td>\n",
       "    </tr>\n",
       "    <tr>\n",
       "      <th>max</th>\n",
       "      <td>60.000000</td>\n",
       "      <td>150000.000000</td>\n",
       "      <td>1.000000</td>\n",
       "    </tr>\n",
       "  </tbody>\n",
       "</table>\n",
       "</div>"
      ],
      "text/plain": [
       "              Age  EstimatedSalary   Purchased\n",
       "count  400.000000       400.000000  400.000000\n",
       "mean    37.655000     69742.500000    0.357500\n",
       "std     10.482877     34096.960282    0.479864\n",
       "min     18.000000     15000.000000    0.000000\n",
       "25%     29.750000     43000.000000    0.000000\n",
       "50%     37.000000     70000.000000    0.000000\n",
       "75%     46.000000     88000.000000    1.000000\n",
       "max     60.000000    150000.000000    1.000000"
      ]
     },
     "execution_count": 212,
     "metadata": {},
     "output_type": "execute_result"
    }
   ],
   "source": [
    "df.describe()"
   ]
  },
  {
   "cell_type": "markdown",
   "id": "c3132ef2-9acc-44aa-88df-34f3c24aca60",
   "metadata": {},
   "source": [
    "#### Visualizando Distribuições de Dados\n",
    "\n",
    "Embora **.describe()** forneça resumos numéricos valiosos, visualizar os dados pode tornar os padrões mais evidentes. \n",
    "\n",
    "Usaremos boxplots para identificar outliers em Age e EstimatedSalary."
   ]
  },
  {
   "cell_type": "code",
   "execution_count": 213,
   "id": "09f38b80-806c-4616-8ec1-1624d918a25f",
   "metadata": {},
   "outputs": [
    {
     "data": {
      "text/plain": [
       "Text(0.5, 0, 'Estimated Salary')"
      ]
     },
     "execution_count": 213,
     "metadata": {},
     "output_type": "execute_result"
    },
    {
     "data": {
      "image/png": "[encoded data removed]",
      "text/plain": [
       "<Figure size 1200x600 with 2 Axes>"
      ]
     },
     "metadata": {},
     "output_type": "display_data"
    }
   ],
   "source": [
    "# Set Seaborn style\n",
    "sns.set_style(\"whitegrid\")\n",
    "\n",
    "# Create figure\n",
    "fig, axes = plt.subplots(1, 2, figsize=(12, 6))\n",
    "\n",
    "# 1. Boxplot for Age Distribution (Detect Outliers)\n",
    "sns.boxplot(x=df[\"Age\"], ax=axes[0])\n",
    "axes[0].set_title(\"Boxplot of Ages\", fontsize=14)\n",
    "axes[0].set_xlabel(\"Age\")\n",
    "\n",
    "# 2. Boxplot for Estimated Salary Distribution (Detect Outliers)\n",
    "sns.boxplot(x=df[\"EstimatedSalary\"], color=\"green\", ax=axes[1])\n",
    "axes[1].set_title(\"Boxplot of Estimated Salary\", fontsize=14)\n",
    "axes[1].set_xlabel(\"Estimated Salary\")\n"
   ]
  },
  {
   "cell_type": "code",
   "execution_count": 214,
   "id": "6f9bf226",
   "metadata": {},
   "outputs": [
    {
     "data": {
      "image/png": "[encoded data removed]",
      "text/plain": [
       "<Figure size 1000x600 with 1 Axes>"
      ]
     },
     "metadata": {},
     "output_type": "display_data"
    }
   ],
   "source": [
    "# Set plot style\n",
    "sns.set_style(\"whitegrid\")\n",
    "\n",
    "# Create scatter plot with regression line\n",
    "plt.figure(figsize=(10, 6))\n",
    "sns.regplot(x=df[\"Age\"], y=df[\"EstimatedSalary\"], color=\"blue\", scatter_kws={'alpha':0.6}, line_kws={'color':'red'})\n",
    "\n",
    "# Titles and labels\n",
    "plt.title(\"Regression Plot of Age vs. Estimated Salary\", fontsize=14)\n",
    "plt.xlabel(\"Age\", fontsize=12)\n",
    "plt.ylabel(\"Estimated Salary\", fontsize=12)\n",
    "\n",
    "# Show the plot\n",
    "plt.show()\n"
   ]
  },
  {
   "cell_type": "markdown",
   "id": "2a38408c",
   "metadata": {},
   "source": [
    "Existe uma correlação positiva fraca entre Idade e Salário.\n",
    "\n",
    "A Idade, isoladamente, não é um forte preditor do Salário, como indicado pela ampla dispersão."
   ]
  },
  {
   "cell_type": "markdown",
   "id": "0f360310-666b-4ada-8898-cc358fdaf47c",
   "metadata": {},
   "source": [
    "### Pré-processamento de Dados\n",
    "\n",
    "**Tratando Variáveis Categóricas**\n",
    "* A maioria dos modelos de aprendizado de máquina exige entradas numéricas, então precisamos converter variáveis categóricas em números.\n",
    "\n",
    "\n",
    "**Verificando Tipos de Dados**\n",
    "\n",
    "Primeiro, inspecionamos nosso conjunto de dados para identificar variáveis categóricas.\n",
    "* df.dtypes\n",
    "\n",
    "\n",
    "**Codificando Dados Categóricos**\n",
    "\n",
    "Como os modelos não podem trabalhar diretamente com dados categóricos, devemos transformá-los em valores numéricos.\n",
    "* Usaremos Label Encoding para categorias binárias (ex.: Masculino/Feminino).\n",
    "* **from sklearn.preprocessing import LabelEncoder**\n",
    "\n",
    "Essa transformação também é essencial para calcular matrizes de correlação, pois os coeficientes de correlação exigem valores numéricos."
   ]
  },
  {
   "cell_type": "code",
   "execution_count": 215,
   "id": "2f95c633-3d36-433b-a699-49dfc7429732",
   "metadata": {},
   "outputs": [
    {
     "data": {
      "text/plain": [
       "Gender             object\n",
       "Age                 int64\n",
       "EstimatedSalary     int64\n",
       "Purchased           int64\n",
       "dtype: object"
      ]
     },
     "execution_count": 215,
     "metadata": {},
     "output_type": "execute_result"
    }
   ],
   "source": [
    "#1\n",
    "df.dtypes"
   ]
  },
  {
   "cell_type": "code",
   "execution_count": 216,
   "id": "da98c3b7-4ae0-44e9-ba8d-6888f14c0d04",
   "metadata": {},
   "outputs": [
    {
     "name": "stdout",
     "output_type": "stream",
     "text": [
      "     Gender  Age  EstimatedSalary  Purchased\n",
      "0         1   19            19000          0\n",
      "1         1   35            20000          0\n",
      "2         0   26            43000          0\n",
      "3         0   27            57000          0\n",
      "4         1   19            76000          0\n",
      "..      ...  ...              ...        ...\n",
      "395       0   46            41000          1\n",
      "396       1   51            23000          1\n",
      "397       0   50            20000          1\n",
      "398       1   36            33000          0\n",
      "399       0   49            36000          1\n",
      "\n",
      "[400 rows x 4 columns]\n"
     ]
    }
   ],
   "source": [
    "#2\n",
    "#Right our only categorical data is the Gender column as a type object, lets transform it with Pipelines\n",
    "from sklearn.pipeline import Pipeline\n",
    "from sklearn.compose import ColumnTransformer\n",
    "from sklearn.preprocessing import LabelEncoder, FunctionTransformer\n",
    "\n",
    "# Function to transform Gender column\n",
    "def label_encode_gender(df):\n",
    "    encoder = LabelEncoder()\n",
    "    df['Gender'] = encoder.fit_transform(df['Gender'])\n",
    "    return df\n",
    "\n",
    "# Create a pipeline with a custom transformer\n",
    "pipeline = Pipeline([\n",
    "    ('gender_label_encoding', FunctionTransformer(label_encode_gender))\n",
    "])\n",
    "\n",
    "# Transform the data\n",
    "df_transformed = pipeline.fit_transform(df)\n",
    "print(df_transformed)"
   ]
  },
  {
   "cell_type": "markdown",
   "id": "a8e34e9a",
   "metadata": {},
   "source": [
    "Agora que transformamos nosso valor categórico em numérico, também podemos ver o coeficiente de correlação entre nossas variáveis e o valor alvo."
   ]
  },
  {
   "cell_type": "code",
   "execution_count": 217,
   "id": "ad864b76",
   "metadata": {},
   "outputs": [
    {
     "name": "stdout",
     "output_type": "stream",
     "text": [
      "Correlation Coefficient of Gender x Purchased: -0.042\n",
      "Correlation Coefficient of Age x Purchased: 0.622\n",
      "Correlation Coefficient of EstimatedSalary x Purchased: 0.362\n"
     ]
    }
   ],
   "source": [
    "for i in df.columns:\n",
    "    coef = np.corrcoef(df[i], df[\"Purchased\"])[0,1]\n",
    "    if i != 'Purchased':\n",
    "        print(f\"Correlation Coefficient of {i} x Purchased: {coef:.3f}\")\n",
    "    else: \n",
    "        break"
   ]
  },
  {
   "cell_type": "markdown",
   "id": "15e0cf5b",
   "metadata": {},
   "source": [
    "#### Mas espere, o coeficiente de correlação entre Gênero e Comprado é negativo e muito próximo de 0. Isso está correto?\n",
    "\n",
    "Na verdade, está correto, e isso é uma informação valiosa para nós. Mas primeiro, vamos entender o que aconteceu:\n",
    "* O coeficiente de correlação de Pearson (que é comumente usado) mede relações lineares entre duas variáveis. \n",
    "* Quando ambas as variáveis são binárias (0 e 1), **a correlação se torna uma medida de quão frequentemente elas coincidem ou diferem.**\n",
    "\n",
    "    - Se a correlação for positiva, Gênero = 1 tem maior probabilidade de resultar em Alvo = 1.\n",
    "    - Se a correlação for negativa, Gênero = 1 tem maior probabilidade de resultar em Alvo = 0.\n",
    "\n",
    "**Resultados Chaves**\n",
    "* Com uma correlação de -0.042, isso indica que Gênero não tem um impacto significativo sobre se uma pessoa realiza uma compra.\n",
    "* Em outras palavras, **não há diferença significativa entre o comportamento de compra de homens e mulheres neste conjunto de dados.**\n"
   ]
  },
  {
   "cell_type": "markdown",
   "id": "8ff92c99",
   "metadata": {},
   "source": [
    "#### Ok, agora para o Modelo de Regressão Logística nós temos tudo que precisamos\n",
    "\n",
    "1. Os dados são totalmente numéricos\n",
    "2. Os dados estão devidamente limpos\n",
    "3. Os dados não contêm valores nulos ou ausentes"
   ]
  },
  {
   "cell_type": "markdown",
   "id": "3a995483",
   "metadata": {},
   "source": [
    "#### Então, vamos começar a desenvolver nosso modelo\n",
    "\n",
    "1. Separamos os valores de X e Y (Purchased).\n",
    "2. Use o **train_test_split** para separar corretamente nossos dados em treino e teste.\n",
    "3. Fit o modelo **Logistic Regression**, com os dados de treino.\n",
    "4. Por fim, veja a pontuação do nosso modelo"
   ]
  },
  {
   "cell_type": "code",
   "execution_count": 218,
   "id": "80a753fa-744a-4ef4-a2d1-7c002af4a731",
   "metadata": {},
   "outputs": [],
   "source": [
    "#1\n",
    "X = df.drop(columns = ['Purchased'], axis=1)\n",
    "y = df['Purchased']"
   ]
  },
  {
   "cell_type": "code",
   "execution_count": 219,
   "id": "34ce5636",
   "metadata": {},
   "outputs": [
    {
     "data": {
      "text/html": [
       "<div>\n",
       "<style scoped>\n",
       "    .dataframe tbody tr th:only-of-type {\n",
       "        vertical-align: middle;\n",
       "    }\n",
       "\n",
       "    .dataframe tbody tr th {\n",
       "        vertical-align: top;\n",
       "    }\n",
       "\n",
       "    .dataframe thead th {\n",
       "        text-align: right;\n",
       "    }\n",
       "</style>\n",
       "<table border=\"1\" class=\"dataframe\">\n",
       "  <thead>\n",
       "    <tr style=\"text-align: right;\">\n",
       "      <th></th>\n",
       "      <th>Gender</th>\n",
       "      <th>Age</th>\n",
       "      <th>EstimatedSalary</th>\n",
       "    </tr>\n",
       "  </thead>\n",
       "  <tbody>\n",
       "    <tr>\n",
       "      <th>0</th>\n",
       "      <td>1</td>\n",
       "      <td>19</td>\n",
       "      <td>19000</td>\n",
       "    </tr>\n",
       "    <tr>\n",
       "      <th>1</th>\n",
       "      <td>1</td>\n",
       "      <td>35</td>\n",
       "      <td>20000</td>\n",
       "    </tr>\n",
       "    <tr>\n",
       "      <th>2</th>\n",
       "      <td>0</td>\n",
       "      <td>26</td>\n",
       "      <td>43000</td>\n",
       "    </tr>\n",
       "    <tr>\n",
       "      <th>3</th>\n",
       "      <td>0</td>\n",
       "      <td>27</td>\n",
       "      <td>57000</td>\n",
       "    </tr>\n",
       "    <tr>\n",
       "      <th>4</th>\n",
       "      <td>1</td>\n",
       "      <td>19</td>\n",
       "      <td>76000</td>\n",
       "    </tr>\n",
       "  </tbody>\n",
       "</table>\n",
       "</div>"
      ],
      "text/plain": [
       "   Gender  Age  EstimatedSalary\n",
       "0       1   19            19000\n",
       "1       1   35            20000\n",
       "2       0   26            43000\n",
       "3       0   27            57000\n",
       "4       1   19            76000"
      ]
     },
     "execution_count": 219,
     "metadata": {},
     "output_type": "execute_result"
    }
   ],
   "source": [
    "X.head()"
   ]
  },
  {
   "cell_type": "code",
   "execution_count": 220,
   "id": "81f6b763",
   "metadata": {},
   "outputs": [
    {
     "data": {
      "text/plain": [
       "0    0\n",
       "1    0\n",
       "2    0\n",
       "3    0\n",
       "4    0\n",
       "Name: Purchased, dtype: int64"
      ]
     },
     "execution_count": 220,
     "metadata": {},
     "output_type": "execute_result"
    }
   ],
   "source": [
    "y.head()"
   ]
  },
  {
   "cell_type": "code",
   "execution_count": 221,
   "id": "adfc47ac",
   "metadata": {},
   "outputs": [],
   "source": [
    "#2\n",
    "X_train, X_test, y_train, y_test = train_test_split(X, y, test_size = 0.20, random_state = 42) "
   ]
  },
  {
   "cell_type": "code",
   "execution_count": 222,
   "id": "9c5d2f86",
   "metadata": {},
   "outputs": [
    {
     "data": {
      "text/html": [
       "<style>#sk-container-id-7 {\n",
       "  /* Definition of color scheme common for light and dark mode */\n",
       "  --sklearn-color-text: black;\n",
       "  --sklearn-color-line: gray;\n",
       "  /* Definition of color scheme for unfitted estimators */\n",
       "  --sklearn-color-unfitted-level-0: #fff5e6;\n",
       "  --sklearn-color-unfitted-level-1: #f6e4d2;\n",
       "  --sklearn-color-unfitted-level-2: #ffe0b3;\n",
       "  --sklearn-color-unfitted-level-3: chocolate;\n",
       "  /* Definition of color scheme for fitted estimators */\n",
       "  --sklearn-color-fitted-level-0: #f0f8ff;\n",
       "  --sklearn-color-fitted-level-1: #d4ebff;\n",
       "  --sklearn-color-fitted-level-2: #b3dbfd;\n",
       "  --sklearn-color-fitted-level-3: cornflowerblue;\n",
       "\n",
       "  /* Specific color for light theme */\n",
       "  --sklearn-color-text-on-default-background: var(--sg-text-color, var(--theme-code-foreground, var(--jp-content-font-color1, black)));\n",
       "  --sklearn-color-background: var(--sg-background-color, var(--theme-background, var(--jp-layout-color0, white)));\n",
       "  --sklearn-color-border-box: var(--sg-text-color, var(--theme-code-foreground, var(--jp-content-font-color1, black)));\n",
       "  --sklearn-color-icon: #696969;\n",
       "\n",
       "  @media (prefers-color-scheme: dark) {\n",
       "    /* Redefinition of color scheme for dark theme */\n",
       "    --sklearn-color-text-on-default-background: var(--sg-text-color, var(--theme-code-foreground, var(--jp-content-font-color1, white)));\n",
       "    --sklearn-color-background: var(--sg-background-color, var(--theme-background, var(--jp-layout-color0, #111)));\n",
       "    --sklearn-color-border-box: var(--sg-text-color, var(--theme-code-foreground, var(--jp-content-font-color1, white)));\n",
       "    --sklearn-color-icon: #878787;\n",
       "  }\n",
       "}\n",
       "\n",
       "#sk-container-id-7 {\n",
       "  color: var(--sklearn-color-text);\n",
       "}\n",
       "\n",
       "#sk-container-id-7 pre {\n",
       "  padding: 0;\n",
       "}\n",
       "\n",
       "#sk-container-id-7 input.sk-hidden--visually {\n",
       "  border: 0;\n",
       "  clip: rect(1px 1px 1px 1px);\n",
       "  clip: rect(1px, 1px, 1px, 1px);\n",
       "  height: 1px;\n",
       "  margin: -1px;\n",
       "  overflow: hidden;\n",
       "  padding: 0;\n",
       "  position: absolute;\n",
       "  width: 1px;\n",
       "}\n",
       "\n",
       "#sk-container-id-7 div.sk-dashed-wrapped {\n",
       "  border: 1px dashed var(--sklearn-color-line);\n",
       "  margin: 0 0.4em 0.5em 0.4em;\n",
       "  box-sizing: border-box;\n",
       "  padding-bottom: 0.4em;\n",
       "  background-color: var(--sklearn-color-background);\n",
       "}\n",
       "\n",
       "#sk-container-id-7 div.sk-container {\n",
       "  /* jupyter's `normalize.less` sets `[hidden] { display: none; }`\n",
       "     but bootstrap.min.css set `[hidden] { display: none !important; }`\n",
       "     so we also need the `!important` here to be able to override the\n",
       "     default hidden behavior on the sphinx rendered scikit-learn.org.\n",
       "     See: https://github.com/scikit-learn/scikit-learn/issues/21755 */\n",
       "  display: inline-block !important;\n",
       "  position: relative;\n",
       "}\n",
       "\n",
       "#sk-container-id-7 div.sk-text-repr-fallback {\n",
       "  display: none;\n",
       "}\n",
       "\n",
       "div.sk-parallel-item,\n",
       "div.sk-serial,\n",
       "div.sk-item {\n",
       "  /* draw centered vertical line to link estimators */\n",
       "  background-image: linear-gradient(var(--sklearn-color-text-on-default-background), var(--sklearn-color-text-on-default-background));\n",
       "  background-size: 2px 100%;\n",
       "  background-repeat: no-repeat;\n",
       "  background-position: center center;\n",
       "}\n",
       "\n",
       "/* Parallel-specific style estimator block */\n",
       "\n",
       "#sk-container-id-7 div.sk-parallel-item::after {\n",
       "  content: \"\";\n",
       "  width: 100%;\n",
       "  border-bottom: 2px solid var(--sklearn-color-text-on-default-background);\n",
       "  flex-grow: 1;\n",
       "}\n",
       "\n",
       "#sk-container-id-7 div.sk-parallel {\n",
       "  display: flex;\n",
       "  align-items: stretch;\n",
       "  justify-content: center;\n",
       "  background-color: var(--sklearn-color-background);\n",
       "  position: relative;\n",
       "}\n",
       "\n",
       "#sk-container-id-7 div.sk-parallel-item {\n",
       "  display: flex;\n",
       "  flex-direction: column;\n",
       "}\n",
       "\n",
       "#sk-container-id-7 div.sk-parallel-item:first-child::after {\n",
       "  align-self: flex-end;\n",
       "  width: 50%;\n",
       "}\n",
       "\n",
       "#sk-container-id-7 div.sk-parallel-item:last-child::after {\n",
       "  align-self: flex-start;\n",
       "  width: 50%;\n",
       "}\n",
       "\n",
       "#sk-container-id-7 div.sk-parallel-item:only-child::after {\n",
       "  width: 0;\n",
       "}\n",
       "\n",
       "/* Serial-specific style estimator block */\n",
       "\n",
       "#sk-container-id-7 div.sk-serial {\n",
       "  display: flex;\n",
       "  flex-direction: column;\n",
       "  align-items: center;\n",
       "  background-color: var(--sklearn-color-background);\n",
       "  padding-right: 1em;\n",
       "  padding-left: 1em;\n",
       "}\n",
       "\n",
       "\n",
       "/* Toggleable style: style used for estimator/Pipeline/ColumnTransformer box that is\n",
       "clickable and can be expanded/collapsed.\n",
       "- Pipeline and ColumnTransformer use this feature and define the default style\n",
       "- Estimators will overwrite some part of the style using the `sk-estimator` class\n",
       "*/\n",
       "\n",
       "/* Pipeline and ColumnTransformer style (default) */\n",
       "\n",
       "#sk-container-id-7 div.sk-toggleable {\n",
       "  /* Default theme specific background. It is overwritten whether we have a\n",
       "  specific estimator or a Pipeline/ColumnTransformer */\n",
       "  background-color: var(--sklearn-color-background);\n",
       "}\n",
       "\n",
       "/* Toggleable label */\n",
       "#sk-container-id-7 label.sk-toggleable__label {\n",
       "  cursor: pointer;\n",
       "  display: block;\n",
       "  width: 100%;\n",
       "  margin-bottom: 0;\n",
       "  padding: 0.5em;\n",
       "  box-sizing: border-box;\n",
       "  text-align: center;\n",
       "}\n",
       "\n",
       "#sk-container-id-7 label.sk-toggleable__label-arrow:before {\n",
       "  /* Arrow on the left of the label */\n",
       "  content: \"▸\";\n",
       "  float: left;\n",
       "  margin-right: 0.25em;\n",
       "  color: var(--sklearn-color-icon);\n",
       "}\n",
       "\n",
       "#sk-container-id-7 label.sk-toggleable__label-arrow:hover:before {\n",
       "  color: var(--sklearn-color-text);\n",
       "}\n",
       "\n",
       "/* Toggleable content - dropdown */\n",
       "\n",
       "#sk-container-id-7 div.sk-toggleable__content {\n",
       "  max-height: 0;\n",
       "  max-width: 0;\n",
       "  overflow: hidden;\n",
       "  text-align: left;\n",
       "  /* unfitted */\n",
       "  background-color: var(--sklearn-color-unfitted-level-0);\n",
       "}\n",
       "\n",
       "#sk-container-id-7 div.sk-toggleable__content.fitted {\n",
       "  /* fitted */\n",
       "  background-color: var(--sklearn-color-fitted-level-0);\n",
       "}\n",
       "\n",
       "#sk-container-id-7 div.sk-toggleable__content pre {\n",
       "  margin: 0.2em;\n",
       "  border-radius: 0.25em;\n",
       "  color: var(--sklearn-color-text);\n",
       "  /* unfitted */\n",
       "  background-color: var(--sklearn-color-unfitted-level-0);\n",
       "}\n",
       "\n",
       "#sk-container-id-7 div.sk-toggleable__content.fitted pre {\n",
       "  /* unfitted */\n",
       "  background-color: var(--sklearn-color-fitted-level-0);\n",
       "}\n",
       "\n",
       "#sk-container-id-7 input.sk-toggleable__control:checked~div.sk-toggleable__content {\n",
       "  /* Expand drop-down */\n",
       "  max-height: 200px;\n",
       "  max-width: 100%;\n",
       "  overflow: auto;\n",
       "}\n",
       "\n",
       "#sk-container-id-7 input.sk-toggleable__control:checked~label.sk-toggleable__label-arrow:before {\n",
       "  content: \"▾\";\n",
       "}\n",
       "\n",
       "/* Pipeline/ColumnTransformer-specific style */\n",
       "\n",
       "#sk-container-id-7 div.sk-label input.sk-toggleable__control:checked~label.sk-toggleable__label {\n",
       "  color: var(--sklearn-color-text);\n",
       "  background-color: var(--sklearn-color-unfitted-level-2);\n",
       "}\n",
       "\n",
       "#sk-container-id-7 div.sk-label.fitted input.sk-toggleable__control:checked~label.sk-toggleable__label {\n",
       "  background-color: var(--sklearn-color-fitted-level-2);\n",
       "}\n",
       "\n",
       "/* Estimator-specific style */\n",
       "\n",
       "/* Colorize estimator box */\n",
       "#sk-container-id-7 div.sk-estimator input.sk-toggleable__control:checked~label.sk-toggleable__label {\n",
       "  /* unfitted */\n",
       "  background-color: var(--sklearn-color-unfitted-level-2);\n",
       "}\n",
       "\n",
       "#sk-container-id-7 div.sk-estimator.fitted input.sk-toggleable__control:checked~label.sk-toggleable__label {\n",
       "  /* fitted */\n",
       "  background-color: var(--sklearn-color-fitted-level-2);\n",
       "}\n",
       "\n",
       "#sk-container-id-7 div.sk-label label.sk-toggleable__label,\n",
       "#sk-container-id-7 div.sk-label label {\n",
       "  /* The background is the default theme color */\n",
       "  color: var(--sklearn-color-text-on-default-background);\n",
       "}\n",
       "\n",
       "/* On hover, darken the color of the background */\n",
       "#sk-container-id-7 div.sk-label:hover label.sk-toggleable__label {\n",
       "  color: var(--sklearn-color-text);\n",
       "  background-color: var(--sklearn-color-unfitted-level-2);\n",
       "}\n",
       "\n",
       "/* Label box, darken color on hover, fitted */\n",
       "#sk-container-id-7 div.sk-label.fitted:hover label.sk-toggleable__label.fitted {\n",
       "  color: var(--sklearn-color-text);\n",
       "  background-color: var(--sklearn-color-fitted-level-2);\n",
       "}\n",
       "\n",
       "/* Estimator label */\n",
       "\n",
       "#sk-container-id-7 div.sk-label label {\n",
       "  font-family: monospace;\n",
       "  font-weight: bold;\n",
       "  display: inline-block;\n",
       "  line-height: 1.2em;\n",
       "}\n",
       "\n",
       "#sk-container-id-7 div.sk-label-container {\n",
       "  text-align: center;\n",
       "}\n",
       "\n",
       "/* Estimator-specific */\n",
       "#sk-container-id-7 div.sk-estimator {\n",
       "  font-family: monospace;\n",
       "  border: 1px dotted var(--sklearn-color-border-box);\n",
       "  border-radius: 0.25em;\n",
       "  box-sizing: border-box;\n",
       "  margin-bottom: 0.5em;\n",
       "  /* unfitted */\n",
       "  background-color: var(--sklearn-color-unfitted-level-0);\n",
       "}\n",
       "\n",
       "#sk-container-id-7 div.sk-estimator.fitted {\n",
       "  /* fitted */\n",
       "  background-color: var(--sklearn-color-fitted-level-0);\n",
       "}\n",
       "\n",
       "/* on hover */\n",
       "#sk-container-id-7 div.sk-estimator:hover {\n",
       "  /* unfitted */\n",
       "  background-color: var(--sklearn-color-unfitted-level-2);\n",
       "}\n",
       "\n",
       "#sk-container-id-7 div.sk-estimator.fitted:hover {\n",
       "  /* fitted */\n",
       "  background-color: var(--sklearn-color-fitted-level-2);\n",
       "}\n",
       "\n",
       "/* Specification for estimator info (e.g. \"i\" and \"?\") */\n",
       "\n",
       "/* Common style for \"i\" and \"?\" */\n",
       "\n",
       ".sk-estimator-doc-link,\n",
       "a:link.sk-estimator-doc-link,\n",
       "a:visited.sk-estimator-doc-link {\n",
       "  float: right;\n",
       "  font-size: smaller;\n",
       "  line-height: 1em;\n",
       "  font-family: monospace;\n",
       "  background-color: var(--sklearn-color-background);\n",
       "  border-radius: 1em;\n",
       "  height: 1em;\n",
       "  width: 1em;\n",
       "  text-decoration: none !important;\n",
       "  margin-left: 1ex;\n",
       "  /* unfitted */\n",
       "  border: var(--sklearn-color-unfitted-level-1) 1pt solid;\n",
       "  color: var(--sklearn-color-unfitted-level-1);\n",
       "}\n",
       "\n",
       ".sk-estimator-doc-link.fitted,\n",
       "a:link.sk-estimator-doc-link.fitted,\n",
       "a:visited.sk-estimator-doc-link.fitted {\n",
       "  /* fitted */\n",
       "  border: var(--sklearn-color-fitted-level-1) 1pt solid;\n",
       "  color: var(--sklearn-color-fitted-level-1);\n",
       "}\n",
       "\n",
       "/* On hover */\n",
       "div.sk-estimator:hover .sk-estimator-doc-link:hover,\n",
       ".sk-estimator-doc-link:hover,\n",
       "div.sk-label-container:hover .sk-estimator-doc-link:hover,\n",
       ".sk-estimator-doc-link:hover {\n",
       "  /* unfitted */\n",
       "  background-color: var(--sklearn-color-unfitted-level-3);\n",
       "  color: var(--sklearn-color-background);\n",
       "  text-decoration: none;\n",
       "}\n",
       "\n",
       "div.sk-estimator.fitted:hover .sk-estimator-doc-link.fitted:hover,\n",
       ".sk-estimator-doc-link.fitted:hover,\n",
       "div.sk-label-container:hover .sk-estimator-doc-link.fitted:hover,\n",
       ".sk-estimator-doc-link.fitted:hover {\n",
       "  /* fitted */\n",
       "  background-color: var(--sklearn-color-fitted-level-3);\n",
       "  color: var(--sklearn-color-background);\n",
       "  text-decoration: none;\n",
       "}\n",
       "\n",
       "/* Span, style for the box shown on hovering the info icon */\n",
       ".sk-estimator-doc-link span {\n",
       "  display: none;\n",
       "  z-index: 9999;\n",
       "  position: relative;\n",
       "  font-weight: normal;\n",
       "  right: .2ex;\n",
       "  padding: .5ex;\n",
       "  margin: .5ex;\n",
       "  width: min-content;\n",
       "  min-width: 20ex;\n",
       "  max-width: 50ex;\n",
       "  color: var(--sklearn-color-text);\n",
       "  box-shadow: 2pt 2pt 4pt #999;\n",
       "  /* unfitted */\n",
       "  background: var(--sklearn-color-unfitted-level-0);\n",
       "  border: .5pt solid var(--sklearn-color-unfitted-level-3);\n",
       "}\n",
       "\n",
       ".sk-estimator-doc-link.fitted span {\n",
       "  /* fitted */\n",
       "  background: var(--sklearn-color-fitted-level-0);\n",
       "  border: var(--sklearn-color-fitted-level-3);\n",
       "}\n",
       "\n",
       ".sk-estimator-doc-link:hover span {\n",
       "  display: block;\n",
       "}\n",
       "\n",
       "/* \"?\"-specific style due to the `<a>` HTML tag */\n",
       "\n",
       "#sk-container-id-7 a.estimator_doc_link {\n",
       "  float: right;\n",
       "  font-size: 1rem;\n",
       "  line-height: 1em;\n",
       "  font-family: monospace;\n",
       "  background-color: var(--sklearn-color-background);\n",
       "  border-radius: 1rem;\n",
       "  height: 1rem;\n",
       "  width: 1rem;\n",
       "  text-decoration: none;\n",
       "  /* unfitted */\n",
       "  color: var(--sklearn-color-unfitted-level-1);\n",
       "  border: var(--sklearn-color-unfitted-level-1) 1pt solid;\n",
       "}\n",
       "\n",
       "#sk-container-id-7 a.estimator_doc_link.fitted {\n",
       "  /* fitted */\n",
       "  border: var(--sklearn-color-fitted-level-1) 1pt solid;\n",
       "  color: var(--sklearn-color-fitted-level-1);\n",
       "}\n",
       "\n",
       "/* On hover */\n",
       "#sk-container-id-7 a.estimator_doc_link:hover {\n",
       "  /* unfitted */\n",
       "  background-color: var(--sklearn-color-unfitted-level-3);\n",
       "  color: var(--sklearn-color-background);\n",
       "  text-decoration: none;\n",
       "}\n",
       "\n",
       "#sk-container-id-7 a.estimator_doc_link.fitted:hover {\n",
       "  /* fitted */\n",
       "  background-color: var(--sklearn-color-fitted-level-3);\n",
       "}\n",
       "</style><div id=\"sk-container-id-7\" class=\"sk-top-container\"><div class=\"sk-text-repr-fallback\"><pre>LogisticRegression(random_state=42, solver=&#x27;liblinear&#x27;)</pre><b>In a Jupyter environment, please rerun this cell to show the HTML representation or trust the notebook. <br />On GitHub, the HTML representation is unable to render, please try loading this page with nbviewer.org.</b></div><div class=\"sk-container\" hidden><div class=\"sk-item\"><div class=\"sk-estimator fitted sk-toggleable\"><input class=\"sk-toggleable__control sk-hidden--visually\" id=\"sk-estimator-id-7\" type=\"checkbox\" checked><label for=\"sk-estimator-id-7\" class=\"sk-toggleable__label fitted sk-toggleable__label-arrow fitted\">&nbsp;&nbsp;LogisticRegression<a class=\"sk-estimator-doc-link fitted\" rel=\"noreferrer\" target=\"_blank\" href=\"https://scikit-learn.org/1.5/modules/generated/sklearn.linear_model.LogisticRegression.html\">?<span>Documentation for LogisticRegression</span></a><span class=\"sk-estimator-doc-link fitted\">i<span>Fitted</span></span></label><div class=\"sk-toggleable__content fitted\"><pre>LogisticRegression(random_state=42, solver=&#x27;liblinear&#x27;)</pre></div> </div></div></div></div>"
      ],
      "text/plain": [
       "LogisticRegression(random_state=42, solver='liblinear')"
      ]
     },
     "execution_count": 222,
     "metadata": {},
     "output_type": "execute_result"
    }
   ],
   "source": [
    "#3\n",
    "model = LogisticRegression(solver = 'liblinear', random_state = 42) #liblinear is good for small datasets\n",
    "model.fit(X_train, y_train)"
   ]
  },
  {
   "cell_type": "code",
   "execution_count": 223,
   "id": "e033d2d7",
   "metadata": {},
   "outputs": [
    {
     "name": "stdout",
     "output_type": "stream",
     "text": [
      "              precision    recall  f1-score   support\n",
      "\n",
      "           0       0.66      1.00      0.79        52\n",
      "           1       1.00      0.04      0.07        28\n",
      "\n",
      "    accuracy                           0.66        80\n",
      "   macro avg       0.83      0.52      0.43        80\n",
      "weighted avg       0.78      0.66      0.54        80\n",
      "\n"
     ]
    }
   ],
   "source": [
    "#4\n",
    "y_pred = model.predict(X_test)\n",
    "report = classification_report(y_test, y_pred)\n",
    "print(report)"
   ]
  },
  {
   "cell_type": "markdown",
   "id": "62d55051",
   "metadata": {},
   "source": [
    "Temos um grande problema aqui, a pontuação de recall para a classe 1 está muito baixa\n",
    "\n",
    "A pontuação de recall da classe 1 nos indica que o modelo identificou apenas 4% das instâncias reais dessa classe.\n",
    "\n",
    "**Mas isso pode ser corrigido, certo? Bem, podemos tentar**   "
   ]
  },
  {
   "cell_type": "markdown",
   "id": "649e55dc",
   "metadata": {},
   "source": [
    "Para um melhor entendimento, essa classificação incorreta normalmente é causada por conjuntos de dados desproporcionais, onde uma classe possui muito mais dados do que a outra.\n",
    "\n",
    "* Primeiro, vamos verificar os dados da variável **Purchased** para analisar sua proporção.\n"
   ]
  },
  {
   "cell_type": "code",
   "execution_count": 224,
   "id": "8ed2aba6",
   "metadata": {},
   "outputs": [
    {
     "data": {
      "text/plain": [
       "Purchased\n",
       "0    0.6425\n",
       "1    0.3575\n",
       "Name: proportion, dtype: float64"
      ]
     },
     "execution_count": 224,
     "metadata": {},
     "output_type": "execute_result"
    }
   ],
   "source": [
    "#1\n",
    "df.Purchased.value_counts(1)"
   ]
  },
  {
   "cell_type": "markdown",
   "id": "a47633ec",
   "metadata": {},
   "source": [
    "Bom, isso poderia ser pior. Temos 64% da classe 0 presente no conjunto de dados e 35% da classe 1.\n",
    "\n",
    "Vamos tentar equilibrar essa proporção para 50/50 usando uma técnica chamada **SMOTE**, que gera dados para a classe que possui menos amostras.\n",
    "\n",
    "* **from imblearn.over_sampling import SMOTE**"
   ]
  },
  {
   "cell_type": "code",
   "execution_count": 225,
   "id": "d9d39f4b",
   "metadata": {},
   "outputs": [],
   "source": [
    "X = df.drop(columns = ['Purchased'], axis=1)\n",
    "y = df['Purchased']"
   ]
  },
  {
   "cell_type": "code",
   "execution_count": 226,
   "id": "099186a7",
   "metadata": {},
   "outputs": [],
   "source": [
    "from imblearn.over_sampling import SMOTE\n",
    "\n",
    "X_train, X_test, y_train, y_test = train_test_split(X, y, test_size=0.20, random_state=42)\n",
    "\n",
    "sm = SMOTE(random_state=42)\n",
    "\n",
    "X_train_SMOTE, y_train_SMOTE = sm.fit_resample(X_train, y_train)\n"
   ]
  },
  {
   "cell_type": "markdown",
   "id": "20399b76",
   "metadata": {},
   "source": [
    "Percebeu que aplicamos o **SMOTE** apenas após a função **train_test_split**?\n",
    "\n",
    "Fizemos isso para evitar **vazamento de dados**, que pode ocorrer quando informações de fora do conjunto de treinamento são usadas para criar o modelo, o que pode ser um grande problema de desempenho.\n",
    "\n",
    "Se aplicarmos o SMOTE **depois** do **train_test_split**:\n",
    "* O modelo é treinado em um conjunto de dados balanceado.\n",
    "\n",
    "* O conjunto de teste continua representando dados do mundo real, que geralmente são desbalanceados.\n",
    "\n",
    "* A avaliação reflete com precisão como o modelo irá performar em dados não vistos.\n",
    "\n",
    "\n",
    "Se aplicarmos o SMOTE **antes** do **train_test_split**:\n",
    "* As amostras sintéticas são geradas usando informações de todo o conjunto de dados.\n",
    "\n",
    "* Algumas dessas informações sintéticas (baseadas nos dados de teste) vazam para os dados de treinamento.\n",
    "\n",
    "* O modelo vê dados derivados do conjunto de teste durante o treinamento, levando a:\n",
    "    - Overfitting (superajuste)\n",
    "    - Avaliação irrealista do desempenho (muito otimista)"
   ]
  },
  {
   "cell_type": "code",
   "execution_count": null,
   "id": "a88fd718",
   "metadata": {},
   "outputs": [
    {
     "name": "stdout",
     "output_type": "stream",
     "text": [
      "Class distribution before resampling: Counter({0: 205, 1: 115})\n",
      "Class distribution after resampling: Counter({0: 205, 1: 205})\n"
     ]
    }
   ],
   "source": [
    "from collections import Counter\n",
    "print(\"Class distribution antes resampling:\", Counter(y_train))\n",
    "print(\"Class distribution depois resampling:\", Counter(y_train_SMOTE))"
   ]
  },
  {
   "cell_type": "markdown",
   "id": "5d41fb94",
   "metadata": {},
   "source": [
    "Após aplicar SMOTE, obtivemos uma proporção de 50/50, com 205 para a classe 0 e 205 para a classe 1.\n",
    "\n",
    "Mas isso não é tudo. Podemos ter um problema com nossos dados ao trabalhar com **Regressão Logística**, que não está relacionado apenas à proporção das classes. Vamos analisar a distribuição dos dados nas colunas Age e EstimatedSalary."
   ]
  },
  {
   "cell_type": "code",
   "execution_count": 228,
   "id": "15577f31",
   "metadata": {},
   "outputs": [
    {
     "data": {
      "image/png": "[encoded data removed]",
      "text/plain": [
       "<Figure size 1400x600 with 2 Axes>"
      ]
     },
     "metadata": {},
     "output_type": "display_data"
    }
   ],
   "source": [
    "# Set plot style\n",
    "sns.set_style(\"whitegrid\")\n",
    "\n",
    "# Create figure and axes\n",
    "fig, axes = plt.subplots(1, 2, figsize=(14, 6))\n",
    "\n",
    "# Histogram for Ages\n",
    "sns.histplot(df[\"Age\"], bins=10, kde=True, color=\"blue\", alpha=0.6, ax=axes[0])\n",
    "axes[0].set_title(\"Age Distribution\", fontsize=14)\n",
    "axes[0].set_xlabel(\"Ages\")\n",
    "axes[0].set_ylabel(\"Frequency\")\n",
    "\n",
    "# Histogram for Estimated Salary\n",
    "sns.histplot(df[\"EstimatedSalary\"], bins=10, kde=True, color=\"green\", alpha=0.6, ax=axes[1])\n",
    "axes[1].set_title(\"Estimated Salary Distribution\", fontsize=14)\n",
    "axes[1].set_xlabel(\"Estimated Salary\")\n",
    "axes[1].set_ylabel(\"Frequency\")\n",
    "\n",
    "plt.tight_layout()\n",
    "plt.show()"
   ]
  },
  {
   "cell_type": "markdown",
   "id": "9b90723c",
   "metadata": {},
   "source": [
    "O que percebemos nesses gráficos é que temos dados com escalas muito diferentes. A distribuição de Age varia de **10 a 60**, enquanto os EstimatedSalary variam de **10.000 a 160.000.** Essas escalas são muito distintas entre si.\n",
    "\n",
    "**Mas por que isso é um problema?**\n",
    "\n",
    "Isso pode fazer com que o modelo interprete que EstimatedSalary é mais importante do que Age, priorizando apenas uma variável e tornando o processo de otimização desequilibrado e mais lento."
   ]
  },
  {
   "cell_type": "markdown",
   "id": "c846385c",
   "metadata": {},
   "source": [
    "#### Por que é tão ruim ter os dados espalhados dessa forma?\n",
    "\n",
    "Isso é problemático porque, no modelo de **Regressão Logística**, enfrentamos os seguintes desafios:\n",
    "\n",
    "*  Problemas de Convergência do Gradiente Descendente\n",
    "    - O algoritmo de otimização Gradiente Descendente funciona melhor quando todas as variáveis estão em uma **escala semelhante**.\n",
    "    - Recursos em escalas muito grandes, como salários, podem fazer com que alguns pesos sejam atualizados muito mais rápido do que outros, tornando a convergência lenta ou até impedindo que o modelo alcance o mínimo global.\n",
    "\n",
    "* Distorção da Importância das Variáveis\n",
    "    - O modelo atribui coeficientes com base nos valores das variáveis.\n",
    "    - Se uma variável, como **EstimatedSalary**, tem valores muito maiores do que outras, seu coeficiente também será desproporcionalmente maior, o que pode distorcer a real importância da variável no modelo.\n",
    "\n",
    "**Como resolver esse problema?**\n",
    "\n",
    "* Podemos usar o Standard Scaler do módulo sklearn.preprocessing para transformar os dados, garantindo que:\n",
    "\n",
    "    - Média = 0\n",
    "    - Desvio Padrão = 1\n",
    "* Ao padronizar os dados, garantimos que todas as variáveis fiquem na mesma faixa de valores, evitando que alguma delas domine o modelo apenas por causa de sua escala (exemplo: EstimatedSalary sobre Age)."
   ]
  },
  {
   "cell_type": "code",
   "execution_count": 229,
   "id": "1d9a08dc",
   "metadata": {},
   "outputs": [],
   "source": [
    "from sklearn.preprocessing import StandardScaler\n",
    "# Define numeric and categorical columns\n",
    "numeric_features = ['Age', 'EstimatedSalary']\n",
    "gender_features = ['Gender']\n",
    "\n",
    "# Create a ColumnTransformer\n",
    "preprocessor = ColumnTransformer(\n",
    "    transformers=[\n",
    "        ('num', StandardScaler(), numeric_features),  # Apply StandardScaler to numeric features\n",
    "        ('cat', 'passthrough', gender_features)  # Leave Gender unchanged\n",
    "    ]\n",
    ")\n",
    "\n",
    "# Create a pipeline with preprocessing and Logistic Regression\n",
    "pipeline = Pipeline([\n",
    "    ('preprocess', preprocessor),\n",
    "    ('classifier', LogisticRegression(solver = 'liblinear' ,random_state=42))\n",
    "])\n",
    "\n",
    "# Fit the pipeline with the training data from SMOTE\n",
    "pipeline.fit(X_train_SMOTE, y_train_SMOTE)\n",
    "\n",
    "# Predict and evaluate\n",
    "y_pred = pipeline.predict(X_test)"
   ]
  },
  {
   "cell_type": "code",
   "execution_count": 230,
   "id": "2618da75",
   "metadata": {},
   "outputs": [
    {
     "name": "stdout",
     "output_type": "stream",
     "text": [
      "              precision    recall  f1-score   support\n",
      "\n",
      "           0       0.92      0.88      0.90        52\n",
      "           1       0.80      0.86      0.83        28\n",
      "\n",
      "    accuracy                           0.88        80\n",
      "   macro avg       0.86      0.87      0.86        80\n",
      "weighted avg       0.88      0.88      0.88        80\n",
      "\n"
     ]
    }
   ],
   "source": [
    "report = classification_report(y_test, y_pred)\n",
    "print(report)"
   ]
  },
  {
   "cell_type": "markdown",
   "id": "245b03fe",
   "metadata": {},
   "source": [
    "#### Bem Melhor!\n",
    "\n",
    "Ao padronizar os dados, observamos uma melhoria significativa no desempenho da classificação do nosso modelo. Isso destaca a importância de ter um conjunto de dados bem equilibrado, com valores que seguem uma escala consistente."
   ]
  },
  {
   "cell_type": "markdown",
   "id": "f46782a1",
   "metadata": {},
   "source": [
    "### Para melhorar\n",
    "\n",
    "1. Descobrimos que o gênero tem um Coeficiente de Correlação de **-0.042**, um valor bastante baixo. Então podemos remover a coluna **Gender** e ter resulrados melhores?\n",
    "2. Adicionar uma Pipeline no nosso primeiro modelo, para melhorar o código.\n",
    "3. Experimente este conjunto de dados em outros algoritmos."
   ]
  }
 ],
 "metadata": {
  "kernelspec": {
   "display_name": "Python 3 (ipykernel)",
   "language": "python",
   "name": "python3"
  },
  "language_info": {
   "codemirror_mode": {
    "name": "ipython",
    "version": 3
   },
   "file_extension": ".py",
   "mimetype": "text/x-python",
   "name": "python",
   "nbconvert_exporter": "python",
   "pygments_lexer": "ipython3",
   "version": "3.12.2"
  }
 },
 "nbformat": 4,
 "nbformat_minor": 5
}
