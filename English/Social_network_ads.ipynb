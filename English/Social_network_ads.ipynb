{
 "cells": [
  {
   "cell_type": "markdown",
   "id": "228e3ccb",
   "metadata": {},
   "source": [
    "# Logistic Regression Study for Social Media Ad Analysis\n",
    "\n",
    "## Introduction\n",
    "\n",
    "This notebook aims to explore and apply a **Logistic Regression model** to predict whether a user will purchase a product after viewing an ad on a social media platform. We will use a **dataset containing users' demographic information**, such as age and estimated income, along with the response variable indicating whether the user made a purchase or not.\n",
    "\n",
    "## Study Steps\n",
    "\n",
    "The study will be divided into the following steps:\n",
    "\n",
    "1. **Data Exploration and Preprocessing**\n",
    "\n",
    "   - Reading the dataset  \n",
    "   - Handling missing values  \n",
    "   - Removing irrelevant columns  \n",
    "   - Exploratory analysis (variable distribution, descriptive statistics)\n",
    "     \n",
    "2. **Data Visualization**\n",
    "\n",
    "   - Analyzing relationships between variables  \n",
    "   - Scatter plots and boxplots  \n",
    "\n",
    "3. **Applying the Logistic Regression Model**\n",
    "\n",
    "   - Splitting the data into training and testing sets  \n",
    "   - Training the model  \n",
    "   - Evaluating performance (confusion matrix, precision, recall, and F1-score metrics)  \n",
    "\n",
    "4. **Interpreting the Results**\n",
    "\n",
    "   - Understanding the impact of variables on the model  \n",
    "   - Discussing possible improvements and limitations  \n",
    "\n",
    "## Objective\n",
    "\n",
    "The objective of this study is to deepen my knowledge of the **Logistic Regression algorithm**, exploring its applications, advantages, and limitations. \n",
    "\n",
    "In addition to applying the model to the specific problem of social media ad analysis, I will also seek to understand in which scenarios logistic regression performs well and where it may present weaknesses. \n",
    "\n",
    "This will provide a more critical perspective on its use in different contexts and allow comparisons with other classification models.\n",
    "\n",
    "Let's begin the study by loading the data and analyzing its structure."
   ]
  },
  {
   "cell_type": "code",
   "execution_count": 1,
   "id": "54f2c18f-6957-477b-9a2c-1e19c7cfadda",
   "metadata": {},
   "outputs": [
    {
     "name": "stdout",
     "output_type": "stream",
     "text": [
      "The history saving thread hit an unexpected error (OperationalError('attempt to write a readonly database')).History will not be written to the database.\n"
     ]
    }
   ],
   "source": [
    "import pandas as pd\n",
    "import matplotlib.pyplot as plt\n",
    "import numpy as np\n",
    "import seaborn as sns\n",
    "from sklearn.linear_model import LogisticRegression \n",
    "from sklearn.model_selection import train_test_split\n",
    "from sklearn.metrics import classification_report"
   ]
  },
  {
   "cell_type": "markdown",
   "id": "f1df0a83",
   "metadata": {},
   "source": [
    "# Exploration and preprocessing of data"
   ]
  },
  {
   "cell_type": "code",
   "execution_count": 2,
   "id": "d1aae579-34c1-4dd5-9b27-f4e977ab8d02",
   "metadata": {},
   "outputs": [],
   "source": [
    "df = pd.read_csv('../Social_Network_Ads.csv.xls')"
   ]
  },
  {
   "cell_type": "code",
   "execution_count": 3,
   "id": "452f74e1-0438-4958-b393-6965fa889e2d",
   "metadata": {},
   "outputs": [
    {
     "data": {
      "text/html": [
       "<div>\n",
       "<style scoped>\n",
       "    .dataframe tbody tr th:only-of-type {\n",
       "        vertical-align: middle;\n",
       "    }\n",
       "\n",
       "    .dataframe tbody tr th {\n",
       "        vertical-align: top;\n",
       "    }\n",
       "\n",
       "    .dataframe thead th {\n",
       "        text-align: right;\n",
       "    }\n",
       "</style>\n",
       "<table border=\"1\" class=\"dataframe\">\n",
       "  <thead>\n",
       "    <tr style=\"text-align: right;\">\n",
       "      <th></th>\n",
       "      <th>User ID</th>\n",
       "      <th>Gender</th>\n",
       "      <th>Age</th>\n",
       "      <th>EstimatedSalary</th>\n",
       "      <th>Purchased</th>\n",
       "    </tr>\n",
       "  </thead>\n",
       "  <tbody>\n",
       "    <tr>\n",
       "      <th>0</th>\n",
       "      <td>15624510</td>\n",
       "      <td>Male</td>\n",
       "      <td>19</td>\n",
       "      <td>19000</td>\n",
       "      <td>0</td>\n",
       "    </tr>\n",
       "    <tr>\n",
       "      <th>1</th>\n",
       "      <td>15810944</td>\n",
       "      <td>Male</td>\n",
       "      <td>35</td>\n",
       "      <td>20000</td>\n",
       "      <td>0</td>\n",
       "    </tr>\n",
       "    <tr>\n",
       "      <th>2</th>\n",
       "      <td>15668575</td>\n",
       "      <td>Female</td>\n",
       "      <td>26</td>\n",
       "      <td>43000</td>\n",
       "      <td>0</td>\n",
       "    </tr>\n",
       "    <tr>\n",
       "      <th>3</th>\n",
       "      <td>15603246</td>\n",
       "      <td>Female</td>\n",
       "      <td>27</td>\n",
       "      <td>57000</td>\n",
       "      <td>0</td>\n",
       "    </tr>\n",
       "    <tr>\n",
       "      <th>4</th>\n",
       "      <td>15804002</td>\n",
       "      <td>Male</td>\n",
       "      <td>19</td>\n",
       "      <td>76000</td>\n",
       "      <td>0</td>\n",
       "    </tr>\n",
       "  </tbody>\n",
       "</table>\n",
       "</div>"
      ],
      "text/plain": [
       "    User ID  Gender  Age  EstimatedSalary  Purchased\n",
       "0  15624510    Male   19            19000          0\n",
       "1  15810944    Male   35            20000          0\n",
       "2  15668575  Female   26            43000          0\n",
       "3  15603246  Female   27            57000          0\n",
       "4  15804002    Male   19            76000          0"
      ]
     },
     "execution_count": 3,
     "metadata": {},
     "output_type": "execute_result"
    }
   ],
   "source": [
    "df.head()"
   ]
  },
  {
   "cell_type": "code",
   "execution_count": 4,
   "id": "a224f001-914e-4fba-8be8-a83be2b5fb19",
   "metadata": {},
   "outputs": [
    {
     "data": {
      "text/plain": [
       "User ID            0\n",
       "Gender             0\n",
       "Age                0\n",
       "EstimatedSalary    0\n",
       "Purchased          0\n",
       "dtype: int64"
      ]
     },
     "execution_count": 4,
     "metadata": {},
     "output_type": "execute_result"
    }
   ],
   "source": [
    "# Check for null values\n",
    "df.isna().sum()"
   ]
  },
  {
   "cell_type": "markdown",
   "id": "8a689273-ba1e-4046-969d-9a8de12f8fc6",
   "metadata": {},
   "source": [
    "## Dropping Unnecessary Columns\n",
    "\n",
    "Before starting the analysis, we need to drop the **User ID** column. \n",
    "\n",
    "This column is not useful for our predictions since it does not provide any meaningful information related to our target variable."
   ]
  },
  {
   "cell_type": "code",
   "execution_count": 5,
   "id": "f76c9ed3-1196-491d-b80f-770a85641f6d",
   "metadata": {},
   "outputs": [],
   "source": [
    "df = df.drop(['User ID'],axis=1)"
   ]
  },
  {
   "cell_type": "code",
   "execution_count": 6,
   "id": "83960015-6869-4dac-a551-240ce6411872",
   "metadata": {},
   "outputs": [
    {
     "data": {
      "text/html": [
       "<div>\n",
       "<style scoped>\n",
       "    .dataframe tbody tr th:only-of-type {\n",
       "        vertical-align: middle;\n",
       "    }\n",
       "\n",
       "    .dataframe tbody tr th {\n",
       "        vertical-align: top;\n",
       "    }\n",
       "\n",
       "    .dataframe thead th {\n",
       "        text-align: right;\n",
       "    }\n",
       "</style>\n",
       "<table border=\"1\" class=\"dataframe\">\n",
       "  <thead>\n",
       "    <tr style=\"text-align: right;\">\n",
       "      <th></th>\n",
       "      <th>Gender</th>\n",
       "      <th>Age</th>\n",
       "      <th>EstimatedSalary</th>\n",
       "      <th>Purchased</th>\n",
       "    </tr>\n",
       "  </thead>\n",
       "  <tbody>\n",
       "    <tr>\n",
       "      <th>0</th>\n",
       "      <td>Male</td>\n",
       "      <td>19</td>\n",
       "      <td>19000</td>\n",
       "      <td>0</td>\n",
       "    </tr>\n",
       "    <tr>\n",
       "      <th>1</th>\n",
       "      <td>Male</td>\n",
       "      <td>35</td>\n",
       "      <td>20000</td>\n",
       "      <td>0</td>\n",
       "    </tr>\n",
       "    <tr>\n",
       "      <th>2</th>\n",
       "      <td>Female</td>\n",
       "      <td>26</td>\n",
       "      <td>43000</td>\n",
       "      <td>0</td>\n",
       "    </tr>\n",
       "    <tr>\n",
       "      <th>3</th>\n",
       "      <td>Female</td>\n",
       "      <td>27</td>\n",
       "      <td>57000</td>\n",
       "      <td>0</td>\n",
       "    </tr>\n",
       "    <tr>\n",
       "      <th>4</th>\n",
       "      <td>Male</td>\n",
       "      <td>19</td>\n",
       "      <td>76000</td>\n",
       "      <td>0</td>\n",
       "    </tr>\n",
       "  </tbody>\n",
       "</table>\n",
       "</div>"
      ],
      "text/plain": [
       "   Gender  Age  EstimatedSalary  Purchased\n",
       "0    Male   19            19000          0\n",
       "1    Male   35            20000          0\n",
       "2  Female   26            43000          0\n",
       "3  Female   27            57000          0\n",
       "4    Male   19            76000          0"
      ]
     },
     "execution_count": 6,
     "metadata": {},
     "output_type": "execute_result"
    }
   ],
   "source": [
    "df.head()"
   ]
  },
  {
   "cell_type": "code",
   "execution_count": 7,
   "id": "1a807934",
   "metadata": {},
   "outputs": [
    {
     "name": "stdout",
     "output_type": "stream",
     "text": [
      "Gender: ['Male' 'Female']\n",
      "\n",
      "Age: [19 35 26 27 32 25 20 18 29 47 45 46 48 49 31 21 28 33 30 23 24 22 59 34\n",
      " 39 38 37 42 40 36 41 58 55 52 60 56 53 50 51 57 44 43 54]\n",
      "\n",
      "EstimatedSalary: [ 19000  20000  43000  57000  76000  58000  84000 150000  33000  65000\n",
      "  80000  52000  86000  18000  82000  25000  26000  28000  29000  22000\n",
      "  49000  41000  23000  30000  74000 137000  16000  44000  90000  27000\n",
      "  72000  31000  17000  51000 108000  15000  79000  54000 135000  89000\n",
      "  32000  83000  55000  48000 117000  87000  66000 120000  63000  68000\n",
      " 113000 112000  42000  88000  62000 118000  85000  81000  50000 116000\n",
      " 123000  73000  37000  59000 149000  21000  35000  71000  61000  75000\n",
      "  53000 107000  96000  45000  47000 100000  38000  69000 148000 115000\n",
      "  34000  60000  70000  36000  39000 134000 101000 130000 114000 142000\n",
      "  78000 143000  91000 144000 102000 126000 133000 147000 104000 146000\n",
      " 122000  97000  95000 131000  77000 125000 106000 141000  93000 138000\n",
      " 119000 105000  99000 129000  46000  64000 139000]\n",
      "\n",
      "Purchased: [0 1]\n",
      "\n"
     ]
    }
   ],
   "source": [
    "for col in df.columns:\n",
    "    print(f\"{col}: {df[col].unique()}\\n\")"
   ]
  },
  {
   "cell_type": "markdown",
   "id": "ac6b4cf5-790c-495b-8e43-398b94cca4b3",
   "metadata": {},
   "source": [
    "## Exploratory Data Analysis (EDA)\n",
    "\n",
    "**Understanding the Data Distribution**\n",
    "\n",
    "We will begin by examining the distribution of each column using the **.describe()** method. This allows us to summarize key statistics such as mean, standard deviation, and percentiles."
   ]
  },
  {
   "cell_type": "code",
   "execution_count": 8,
   "id": "81f51f85-8b53-4e7b-bee1-82d3cb8aea9b",
   "metadata": {},
   "outputs": [
    {
     "data": {
      "text/html": [
       "<div>\n",
       "<style scoped>\n",
       "    .dataframe tbody tr th:only-of-type {\n",
       "        vertical-align: middle;\n",
       "    }\n",
       "\n",
       "    .dataframe tbody tr th {\n",
       "        vertical-align: top;\n",
       "    }\n",
       "\n",
       "    .dataframe thead th {\n",
       "        text-align: right;\n",
       "    }\n",
       "</style>\n",
       "<table border=\"1\" class=\"dataframe\">\n",
       "  <thead>\n",
       "    <tr style=\"text-align: right;\">\n",
       "      <th></th>\n",
       "      <th>Age</th>\n",
       "      <th>EstimatedSalary</th>\n",
       "      <th>Purchased</th>\n",
       "    </tr>\n",
       "  </thead>\n",
       "  <tbody>\n",
       "    <tr>\n",
       "      <th>count</th>\n",
       "      <td>400.000000</td>\n",
       "      <td>400.000000</td>\n",
       "      <td>400.000000</td>\n",
       "    </tr>\n",
       "    <tr>\n",
       "      <th>mean</th>\n",
       "      <td>37.655000</td>\n",
       "      <td>69742.500000</td>\n",
       "      <td>0.357500</td>\n",
       "    </tr>\n",
       "    <tr>\n",
       "      <th>std</th>\n",
       "      <td>10.482877</td>\n",
       "      <td>34096.960282</td>\n",
       "      <td>0.479864</td>\n",
       "    </tr>\n",
       "    <tr>\n",
       "      <th>min</th>\n",
       "      <td>18.000000</td>\n",
       "      <td>15000.000000</td>\n",
       "      <td>0.000000</td>\n",
       "    </tr>\n",
       "    <tr>\n",
       "      <th>25%</th>\n",
       "      <td>29.750000</td>\n",
       "      <td>43000.000000</td>\n",
       "      <td>0.000000</td>\n",
       "    </tr>\n",
       "    <tr>\n",
       "      <th>50%</th>\n",
       "      <td>37.000000</td>\n",
       "      <td>70000.000000</td>\n",
       "      <td>0.000000</td>\n",
       "    </tr>\n",
       "    <tr>\n",
       "      <th>75%</th>\n",
       "      <td>46.000000</td>\n",
       "      <td>88000.000000</td>\n",
       "      <td>1.000000</td>\n",
       "    </tr>\n",
       "    <tr>\n",
       "      <th>max</th>\n",
       "      <td>60.000000</td>\n",
       "      <td>150000.000000</td>\n",
       "      <td>1.000000</td>\n",
       "    </tr>\n",
       "  </tbody>\n",
       "</table>\n",
       "</div>"
      ],
      "text/plain": [
       "              Age  EstimatedSalary   Purchased\n",
       "count  400.000000       400.000000  400.000000\n",
       "mean    37.655000     69742.500000    0.357500\n",
       "std     10.482877     34096.960282    0.479864\n",
       "min     18.000000     15000.000000    0.000000\n",
       "25%     29.750000     43000.000000    0.000000\n",
       "50%     37.000000     70000.000000    0.000000\n",
       "75%     46.000000     88000.000000    1.000000\n",
       "max     60.000000    150000.000000    1.000000"
      ]
     },
     "execution_count": 8,
     "metadata": {},
     "output_type": "execute_result"
    }
   ],
   "source": [
    "df.describe()"
   ]
  },
  {
   "cell_type": "markdown",
   "id": "c3132ef2-9acc-44aa-88df-34f3c24aca60",
   "metadata": {},
   "source": [
    "# Visualizing Data Distributions\n",
    "\n",
    "While **.describe()** provides valuable numerical summaries, visualizing the data can make patterns more apparent. \n",
    "\n",
    "**We will use boxplots to identify outliers in Ages and EstimatedSalary.**"
   ]
  },
  {
   "cell_type": "code",
   "execution_count": 9,
   "id": "09f38b80-806c-4616-8ec1-1624d918a25f",
   "metadata": {},
   "outputs": [
    {
     "data": {
      "text/plain": [
       "Text(0.5, 0, 'Estimated Salary')"
      ]
     },
     "execution_count": 9,
     "metadata": {},
     "output_type": "execute_result"
    },
    {
     "data": {
      "image/png": "[encoded data removed]",
      "text/plain": [
       "<Figure size 1200x600 with 2 Axes>"
      ]
     },
     "metadata": {},
     "output_type": "display_data"
    }
   ],
   "source": [
    "# Set Seaborn style\n",
    "sns.set_style(\"whitegrid\")\n",
    "\n",
    "# Create figure\n",
    "fig, axes = plt.subplots(1, 2, figsize=(12, 6))\n",
    "\n",
    "# 1. Boxplot for Age Distribution (Detect Outliers)\n",
    "sns.boxplot(x=df[\"Age\"], ax=axes[0])\n",
    "axes[0].set_title(\"Boxplot of Ages\", fontsize=14)\n",
    "axes[0].set_xlabel(\"Age\")\n",
    "\n",
    "# 2. Boxplot for Estimated Salary Distribution (Detect Outliers)\n",
    "sns.boxplot(x=df[\"EstimatedSalary\"], color=\"green\", ax=axes[1])\n",
    "axes[1].set_title(\"Boxplot of Estimated Salary\", fontsize=14)\n",
    "axes[1].set_xlabel(\"Estimated Salary\")\n"
   ]
  },
  {
   "cell_type": "code",
   "execution_count": 10,
   "id": "6f9bf226",
   "metadata": {},
   "outputs": [
    {
     "data": {
      "image/png": "[encoded data removed]",
      "text/plain": [
       "<Figure size 1000x600 with 1 Axes>"
      ]
     },
     "metadata": {},
     "output_type": "display_data"
    }
   ],
   "source": [
    "# Set plot style\n",
    "sns.set_style(\"whitegrid\")\n",
    "\n",
    "# Create scatter plot with regression line\n",
    "plt.figure(figsize=(10, 6))\n",
    "sns.regplot(x=df[\"Age\"], y=df[\"EstimatedSalary\"], color=\"blue\", scatter_kws={'alpha':0.6}, line_kws={'color':'red'})\n",
    "\n",
    "# Titles and labels\n",
    "plt.title(\"Regression Plot of Age vs. Estimated Salary\", fontsize=14)\n",
    "plt.xlabel(\"Age\", fontsize=12)\n",
    "plt.ylabel(\"Estimated Salary\", fontsize=12)\n",
    "\n",
    "# Show the plot\n",
    "plt.show()\n"
   ]
  },
  {
   "cell_type": "markdown",
   "id": "2a38408c",
   "metadata": {},
   "source": [
    "There is a weak positive correlation between Age and Salary.\n",
    "\n",
    "Age alone is not a strong predictor of Salary, as indicated by the wide scatter."
   ]
  },
  {
   "cell_type": "markdown",
   "id": "0f360310-666b-4ada-8898-cc358fdaf47c",
   "metadata": {},
   "source": [
    "# Data Preprocessing\n",
    "\n",
    "### **Handling Categorical Variables**\n",
    "\n",
    "* Most machine learning models require numerical inputs, so we need to convert categorical variables into numbers.\n",
    "\n",
    "\n",
    "### **Checking Data Types**\n",
    "\n",
    "First, we inspect our dataset to identify categorical variables.\n",
    "\n",
    "* df.dtypes\n",
    "\n",
    "\n",
    "### **Encoding Categorical Data**\n",
    "\n",
    "Since models cannot work directly with categorical data, we must transform them into numerical values.\n",
    "\n",
    "* We will use Label Encoding for binary categories (e.g., Male/Female).\n",
    "\n",
    "* **from sklearn.preprocessing import LabelEncoder**\n",
    "\n",
    "This transformation is also essential for computing correlation matrices, as correlation coefficients require numerical values."
   ]
  },
  {
   "cell_type": "code",
   "execution_count": 11,
   "id": "2f95c633-3d36-433b-a699-49dfc7429732",
   "metadata": {},
   "outputs": [
    {
     "data": {
      "text/plain": [
       "Gender             object\n",
       "Age                 int64\n",
       "EstimatedSalary     int64\n",
       "Purchased           int64\n",
       "dtype: object"
      ]
     },
     "execution_count": 11,
     "metadata": {},
     "output_type": "execute_result"
    }
   ],
   "source": [
    "#1\n",
    "df.dtypes"
   ]
  },
  {
   "cell_type": "code",
   "execution_count": 12,
   "id": "da98c3b7-4ae0-44e9-ba8d-6888f14c0d04",
   "metadata": {},
   "outputs": [
    {
     "name": "stdout",
     "output_type": "stream",
     "text": [
      "     Gender  Age  EstimatedSalary  Purchased\n",
      "0         1   19            19000          0\n",
      "1         1   35            20000          0\n",
      "2         0   26            43000          0\n",
      "3         0   27            57000          0\n",
      "4         1   19            76000          0\n",
      "..      ...  ...              ...        ...\n",
      "395       0   46            41000          1\n",
      "396       1   51            23000          1\n",
      "397       0   50            20000          1\n",
      "398       1   36            33000          0\n",
      "399       0   49            36000          1\n",
      "\n",
      "[400 rows x 4 columns]\n"
     ]
    }
   ],
   "source": [
    "#2\n",
    "#Right our only categorical data is the Gender column as a type object, lets transform it with Pipelines\n",
    "from sklearn.pipeline import Pipeline\n",
    "from sklearn.compose import ColumnTransformer\n",
    "from sklearn.preprocessing import LabelEncoder, FunctionTransformer\n",
    "\n",
    "# Function to transform Gender column\n",
    "def label_encode_gender(df):\n",
    "    encoder = LabelEncoder()\n",
    "    df['Gender'] = encoder.fit_transform(df['Gender'])\n",
    "    return df\n",
    "\n",
    "# Create a pipeline with a custom transformer\n",
    "pipeline = Pipeline([\n",
    "    ('gender_label_encoding', FunctionTransformer(label_encode_gender))\n",
    "])\n",
    "\n",
    "# Transform the data\n",
    "df_transformed = pipeline.fit_transform(df)\n",
    "print(df_transformed)"
   ]
  },
  {
   "cell_type": "markdown",
   "id": "a8e34e9a",
   "metadata": {},
   "source": [
    "Now that we have transformed our categorical value into numerical, we can also see the correlation coefficient between our variables and the target value."
   ]
  },
  {
   "cell_type": "code",
   "execution_count": 13,
   "id": "ad864b76",
   "metadata": {},
   "outputs": [
    {
     "name": "stdout",
     "output_type": "stream",
     "text": [
      "Correlation Coefficient of Gender x Purchased: -0.042\n",
      "Correlation Coefficient of Age x Purchased: 0.622\n",
      "Correlation Coefficient of EstimatedSalary x Purchased: 0.362\n"
     ]
    }
   ],
   "source": [
    "for i in df.columns:\n",
    "    coef = np.corrcoef(df[i], df[\"Purchased\"])[0,1]\n",
    "    if i != 'Purchased':\n",
    "        print(f\"Correlation Coefficient of {i} x Purchased: {coef:.3f}\")\n",
    "    else: \n",
    "        break"
   ]
  },
  {
   "cell_type": "markdown",
   "id": "15e0cf5b",
   "metadata": {},
   "source": [
    "## Correlation Coefficient of Gender X Purchased is negative and very close to 0. Is that correct?\n",
    "\n",
    "Actually, it is right, and this is valuable information for us. But first, let's understand what happened:\n",
    "\n",
    "* The Pearson correlation coefficient (which is commonly used) measures linear relationships between two variables. \n",
    "\n",
    "* When both variables are binary (0 and 1), **the correlation becomes a measure of how often they match or differ.**\n",
    "\n",
    "    - If the correlation is positive, Gender = 1 is more likely to result in Target = 1.\n",
    "    - If the correlation is negative, Gender = 1 is more likely to result in Target = 0.\n",
    "\n",
    "### **Key Result**\n",
    "\n",
    "* With a correlation of -0.042, it indicates that Gender has no significant impact on whether a person makes a purchase.\n",
    "\n",
    "* In other words, **there is no meaningful difference between male and female purchasing behavior in this dataset.**\n"
   ]
  },
  {
   "cell_type": "markdown",
   "id": "8ff92c99",
   "metadata": {},
   "source": [
    "## We have it all for the Logistic Regression model\n",
    "\n",
    "1. The data is all numerical\n",
    "2. The data is properly cleaned\n",
    "3. The data doesn`t contain null values or missing values"
   ]
  },
  {
   "cell_type": "markdown",
   "id": "3a995483",
   "metadata": {},
   "source": [
    "# Developing our model\n",
    "\n",
    "1. Separate the X values and Y value that is the target (Purchased)\n",
    "2. Use the **train_test_split** to properly separate our data on training and test.\n",
    "3. Fit the model **Logistic Regression**, with the training data.\n",
    "4. At last see our model scoring"
   ]
  },
  {
   "cell_type": "code",
   "execution_count": 14,
   "id": "80a753fa-744a-4ef4-a2d1-7c002af4a731",
   "metadata": {},
   "outputs": [],
   "source": [
    "#1\n",
    "X = df.drop(columns = ['Purchased'], axis=1)\n",
    "y = df['Purchased']"
   ]
  },
  {
   "cell_type": "code",
   "execution_count": 15,
   "id": "34ce5636",
   "metadata": {},
   "outputs": [
    {
     "data": {
      "text/html": [
       "<div>\n",
       "<style scoped>\n",
       "    .dataframe tbody tr th:only-of-type {\n",
       "        vertical-align: middle;\n",
       "    }\n",
       "\n",
       "    .dataframe tbody tr th {\n",
       "        vertical-align: top;\n",
       "    }\n",
       "\n",
       "    .dataframe thead th {\n",
       "        text-align: right;\n",
       "    }\n",
       "</style>\n",
       "<table border=\"1\" class=\"dataframe\">\n",
       "  <thead>\n",
       "    <tr style=\"text-align: right;\">\n",
       "      <th></th>\n",
       "      <th>Gender</th>\n",
       "      <th>Age</th>\n",
       "      <th>EstimatedSalary</th>\n",
       "    </tr>\n",
       "  </thead>\n",
       "  <tbody>\n",
       "    <tr>\n",
       "      <th>0</th>\n",
       "      <td>1</td>\n",
       "      <td>19</td>\n",
       "      <td>19000</td>\n",
       "    </tr>\n",
       "    <tr>\n",
       "      <th>1</th>\n",
       "      <td>1</td>\n",
       "      <td>35</td>\n",
       "      <td>20000</td>\n",
       "    </tr>\n",
       "    <tr>\n",
       "      <th>2</th>\n",
       "      <td>0</td>\n",
       "      <td>26</td>\n",
       "      <td>43000</td>\n",
       "    </tr>\n",
       "    <tr>\n",
       "      <th>3</th>\n",
       "      <td>0</td>\n",
       "      <td>27</td>\n",
       "      <td>57000</td>\n",
       "    </tr>\n",
       "    <tr>\n",
       "      <th>4</th>\n",
       "      <td>1</td>\n",
       "      <td>19</td>\n",
       "      <td>76000</td>\n",
       "    </tr>\n",
       "  </tbody>\n",
       "</table>\n",
       "</div>"
      ],
      "text/plain": [
       "   Gender  Age  EstimatedSalary\n",
       "0       1   19            19000\n",
       "1       1   35            20000\n",
       "2       0   26            43000\n",
       "3       0   27            57000\n",
       "4       1   19            76000"
      ]
     },
     "execution_count": 15,
     "metadata": {},
     "output_type": "execute_result"
    }
   ],
   "source": [
    "X.head()"
   ]
  },
  {
   "cell_type": "code",
   "execution_count": 16,
   "id": "81f6b763",
   "metadata": {},
   "outputs": [
    {
     "data": {
      "text/plain": [
       "0    0\n",
       "1    0\n",
       "2    0\n",
       "3    0\n",
       "4    0\n",
       "Name: Purchased, dtype: int64"
      ]
     },
     "execution_count": 16,
     "metadata": {},
     "output_type": "execute_result"
    }
   ],
   "source": [
    "y.head()"
   ]
  },
  {
   "cell_type": "code",
   "execution_count": 17,
   "id": "adfc47ac",
   "metadata": {},
   "outputs": [],
   "source": [
    "#2\n",
    "X_train, X_test, y_train, y_test = train_test_split(X, y, test_size = 0.20, random_state = 42) "
   ]
  },
  {
   "cell_type": "code",
   "execution_count": 18,
   "id": "9c5d2f86",
   "metadata": {},
   "outputs": [
    {
     "data": {
      "text/html": [
       "<style>#sk-container-id-1 {\n",
       "  /* Definition of color scheme common for light and dark mode */\n",
       "  --sklearn-color-text: black;\n",
       "  --sklearn-color-line: gray;\n",
       "  /* Definition of color scheme for unfitted estimators */\n",
       "  --sklearn-color-unfitted-level-0: #fff5e6;\n",
       "  --sklearn-color-unfitted-level-1: #f6e4d2;\n",
       "  --sklearn-color-unfitted-level-2: #ffe0b3;\n",
       "  --sklearn-color-unfitted-level-3: chocolate;\n",
       "  /* Definition of color scheme for fitted estimators */\n",
       "  --sklearn-color-fitted-level-0: #f0f8ff;\n",
       "  --sklearn-color-fitted-level-1: #d4ebff;\n",
       "  --sklearn-color-fitted-level-2: #b3dbfd;\n",
       "  --sklearn-color-fitted-level-3: cornflowerblue;\n",
       "\n",
       "  /* Specific color for light theme */\n",
       "  --sklearn-color-text-on-default-background: var(--sg-text-color, var(--theme-code-foreground, var(--jp-content-font-color1, black)));\n",
       "  --sklearn-color-background: var(--sg-background-color, var(--theme-background, var(--jp-layout-color0, white)));\n",
       "  --sklearn-color-border-box: var(--sg-text-color, var(--theme-code-foreground, var(--jp-content-font-color1, black)));\n",
       "  --sklearn-color-icon: #696969;\n",
       "\n",
       "  @media (prefers-color-scheme: dark) {\n",
       "    /* Redefinition of color scheme for dark theme */\n",
       "    --sklearn-color-text-on-default-background: var(--sg-text-color, var(--theme-code-foreground, var(--jp-content-font-color1, white)));\n",
       "    --sklearn-color-background: var(--sg-background-color, var(--theme-background, var(--jp-layout-color0, #111)));\n",
       "    --sklearn-color-border-box: var(--sg-text-color, var(--theme-code-foreground, var(--jp-content-font-color1, white)));\n",
       "    --sklearn-color-icon: #878787;\n",
       "  }\n",
       "}\n",
       "\n",
       "#sk-container-id-1 {\n",
       "  color: var(--sklearn-color-text);\n",
       "}\n",
       "\n",
       "#sk-container-id-1 pre {\n",
       "  padding: 0;\n",
       "}\n",
       "\n",
       "#sk-container-id-1 input.sk-hidden--visually {\n",
       "  border: 0;\n",
       "  clip: rect(1px 1px 1px 1px);\n",
       "  clip: rect(1px, 1px, 1px, 1px);\n",
       "  height: 1px;\n",
       "  margin: -1px;\n",
       "  overflow: hidden;\n",
       "  padding: 0;\n",
       "  position: absolute;\n",
       "  width: 1px;\n",
       "}\n",
       "\n",
       "#sk-container-id-1 div.sk-dashed-wrapped {\n",
       "  border: 1px dashed var(--sklearn-color-line);\n",
       "  margin: 0 0.4em 0.5em 0.4em;\n",
       "  box-sizing: border-box;\n",
       "  padding-bottom: 0.4em;\n",
       "  background-color: var(--sklearn-color-background);\n",
       "}\n",
       "\n",
       "#sk-container-id-1 div.sk-container {\n",
       "  /* jupyter's `normalize.less` sets `[hidden] { display: none; }`\n",
       "     but bootstrap.min.css set `[hidden] { display: none !important; }`\n",
       "     so we also need the `!important` here to be able to override the\n",
       "     default hidden behavior on the sphinx rendered scikit-learn.org.\n",
       "     See: https://github.com/scikit-learn/scikit-learn/issues/21755 */\n",
       "  display: inline-block !important;\n",
       "  position: relative;\n",
       "}\n",
       "\n",
       "#sk-container-id-1 div.sk-text-repr-fallback {\n",
       "  display: none;\n",
       "}\n",
       "\n",
       "div.sk-parallel-item,\n",
       "div.sk-serial,\n",
       "div.sk-item {\n",
       "  /* draw centered vertical line to link estimators */\n",
       "  background-image: linear-gradient(var(--sklearn-color-text-on-default-background), var(--sklearn-color-text-on-default-background));\n",
       "  background-size: 2px 100%;\n",
       "  background-repeat: no-repeat;\n",
       "  background-position: center center;\n",
       "}\n",
       "\n",
       "/* Parallel-specific style estimator block */\n",
       "\n",
       "#sk-container-id-1 div.sk-parallel-item::after {\n",
       "  content: \"\";\n",
       "  width: 100%;\n",
       "  border-bottom: 2px solid var(--sklearn-color-text-on-default-background);\n",
       "  flex-grow: 1;\n",
       "}\n",
       "\n",
       "#sk-container-id-1 div.sk-parallel {\n",
       "  display: flex;\n",
       "  align-items: stretch;\n",
       "  justify-content: center;\n",
       "  background-color: var(--sklearn-color-background);\n",
       "  position: relative;\n",
       "}\n",
       "\n",
       "#sk-container-id-1 div.sk-parallel-item {\n",
       "  display: flex;\n",
       "  flex-direction: column;\n",
       "}\n",
       "\n",
       "#sk-container-id-1 div.sk-parallel-item:first-child::after {\n",
       "  align-self: flex-end;\n",
       "  width: 50%;\n",
       "}\n",
       "\n",
       "#sk-container-id-1 div.sk-parallel-item:last-child::after {\n",
       "  align-self: flex-start;\n",
       "  width: 50%;\n",
       "}\n",
       "\n",
       "#sk-container-id-1 div.sk-parallel-item:only-child::after {\n",
       "  width: 0;\n",
       "}\n",
       "\n",
       "/* Serial-specific style estimator block */\n",
       "\n",
       "#sk-container-id-1 div.sk-serial {\n",
       "  display: flex;\n",
       "  flex-direction: column;\n",
       "  align-items: center;\n",
       "  background-color: var(--sklearn-color-background);\n",
       "  padding-right: 1em;\n",
       "  padding-left: 1em;\n",
       "}\n",
       "\n",
       "\n",
       "/* Toggleable style: style used for estimator/Pipeline/ColumnTransformer box that is\n",
       "clickable and can be expanded/collapsed.\n",
       "- Pipeline and ColumnTransformer use this feature and define the default style\n",
       "- Estimators will overwrite some part of the style using the `sk-estimator` class\n",
       "*/\n",
       "\n",
       "/* Pipeline and ColumnTransformer style (default) */\n",
       "\n",
       "#sk-container-id-1 div.sk-toggleable {\n",
       "  /* Default theme specific background. It is overwritten whether we have a\n",
       "  specific estimator or a Pipeline/ColumnTransformer */\n",
       "  background-color: var(--sklearn-color-background);\n",
       "}\n",
       "\n",
       "/* Toggleable label */\n",
       "#sk-container-id-1 label.sk-toggleable__label {\n",
       "  cursor: pointer;\n",
       "  display: block;\n",
       "  width: 100%;\n",
       "  margin-bottom: 0;\n",
       "  padding: 0.5em;\n",
       "  box-sizing: border-box;\n",
       "  text-align: center;\n",
       "}\n",
       "\n",
       "#sk-container-id-1 label.sk-toggleable__label-arrow:before {\n",
       "  /* Arrow on the left of the label */\n",
       "  content: \"▸\";\n",
       "  float: left;\n",
       "  margin-right: 0.25em;\n",
       "  color: var(--sklearn-color-icon);\n",
       "}\n",
       "\n",
       "#sk-container-id-1 label.sk-toggleable__label-arrow:hover:before {\n",
       "  color: var(--sklearn-color-text);\n",
       "}\n",
       "\n",
       "/* Toggleable content - dropdown */\n",
       "\n",
       "#sk-container-id-1 div.sk-toggleable__content {\n",
       "  max-height: 0;\n",
       "  max-width: 0;\n",
       "  overflow: hidden;\n",
       "  text-align: left;\n",
       "  /* unfitted */\n",
       "  background-color: var(--sklearn-color-unfitted-level-0);\n",
       "}\n",
       "\n",
       "#sk-container-id-1 div.sk-toggleable__content.fitted {\n",
       "  /* fitted */\n",
       "  background-color: var(--sklearn-color-fitted-level-0);\n",
       "}\n",
       "\n",
       "#sk-container-id-1 div.sk-toggleable__content pre {\n",
       "  margin: 0.2em;\n",
       "  border-radius: 0.25em;\n",
       "  color: var(--sklearn-color-text);\n",
       "  /* unfitted */\n",
       "  background-color: var(--sklearn-color-unfitted-level-0);\n",
       "}\n",
       "\n",
       "#sk-container-id-1 div.sk-toggleable__content.fitted pre {\n",
       "  /* unfitted */\n",
       "  background-color: var(--sklearn-color-fitted-level-0);\n",
       "}\n",
       "\n",
       "#sk-container-id-1 input.sk-toggleable__control:checked~div.sk-toggleable__content {\n",
       "  /* Expand drop-down */\n",
       "  max-height: 200px;\n",
       "  max-width: 100%;\n",
       "  overflow: auto;\n",
       "}\n",
       "\n",
       "#sk-container-id-1 input.sk-toggleable__control:checked~label.sk-toggleable__label-arrow:before {\n",
       "  content: \"▾\";\n",
       "}\n",
       "\n",
       "/* Pipeline/ColumnTransformer-specific style */\n",
       "\n",
       "#sk-container-id-1 div.sk-label input.sk-toggleable__control:checked~label.sk-toggleable__label {\n",
       "  color: var(--sklearn-color-text);\n",
       "  background-color: var(--sklearn-color-unfitted-level-2);\n",
       "}\n",
       "\n",
       "#sk-container-id-1 div.sk-label.fitted input.sk-toggleable__control:checked~label.sk-toggleable__label {\n",
       "  background-color: var(--sklearn-color-fitted-level-2);\n",
       "}\n",
       "\n",
       "/* Estimator-specific style */\n",
       "\n",
       "/* Colorize estimator box */\n",
       "#sk-container-id-1 div.sk-estimator input.sk-toggleable__control:checked~label.sk-toggleable__label {\n",
       "  /* unfitted */\n",
       "  background-color: var(--sklearn-color-unfitted-level-2);\n",
       "}\n",
       "\n",
       "#sk-container-id-1 div.sk-estimator.fitted input.sk-toggleable__control:checked~label.sk-toggleable__label {\n",
       "  /* fitted */\n",
       "  background-color: var(--sklearn-color-fitted-level-2);\n",
       "}\n",
       "\n",
       "#sk-container-id-1 div.sk-label label.sk-toggleable__label,\n",
       "#sk-container-id-1 div.sk-label label {\n",
       "  /* The background is the default theme color */\n",
       "  color: var(--sklearn-color-text-on-default-background);\n",
       "}\n",
       "\n",
       "/* On hover, darken the color of the background */\n",
       "#sk-container-id-1 div.sk-label:hover label.sk-toggleable__label {\n",
       "  color: var(--sklearn-color-text);\n",
       "  background-color: var(--sklearn-color-unfitted-level-2);\n",
       "}\n",
       "\n",
       "/* Label box, darken color on hover, fitted */\n",
       "#sk-container-id-1 div.sk-label.fitted:hover label.sk-toggleable__label.fitted {\n",
       "  color: var(--sklearn-color-text);\n",
       "  background-color: var(--sklearn-color-fitted-level-2);\n",
       "}\n",
       "\n",
       "/* Estimator label */\n",
       "\n",
       "#sk-container-id-1 div.sk-label label {\n",
       "  font-family: monospace;\n",
       "  font-weight: bold;\n",
       "  display: inline-block;\n",
       "  line-height: 1.2em;\n",
       "}\n",
       "\n",
       "#sk-container-id-1 div.sk-label-container {\n",
       "  text-align: center;\n",
       "}\n",
       "\n",
       "/* Estimator-specific */\n",
       "#sk-container-id-1 div.sk-estimator {\n",
       "  font-family: monospace;\n",
       "  border: 1px dotted var(--sklearn-color-border-box);\n",
       "  border-radius: 0.25em;\n",
       "  box-sizing: border-box;\n",
       "  margin-bottom: 0.5em;\n",
       "  /* unfitted */\n",
       "  background-color: var(--sklearn-color-unfitted-level-0);\n",
       "}\n",
       "\n",
       "#sk-container-id-1 div.sk-estimator.fitted {\n",
       "  /* fitted */\n",
       "  background-color: var(--sklearn-color-fitted-level-0);\n",
       "}\n",
       "\n",
       "/* on hover */\n",
       "#sk-container-id-1 div.sk-estimator:hover {\n",
       "  /* unfitted */\n",
       "  background-color: var(--sklearn-color-unfitted-level-2);\n",
       "}\n",
       "\n",
       "#sk-container-id-1 div.sk-estimator.fitted:hover {\n",
       "  /* fitted */\n",
       "  background-color: var(--sklearn-color-fitted-level-2);\n",
       "}\n",
       "\n",
       "/* Specification for estimator info (e.g. \"i\" and \"?\") */\n",
       "\n",
       "/* Common style for \"i\" and \"?\" */\n",
       "\n",
       ".sk-estimator-doc-link,\n",
       "a:link.sk-estimator-doc-link,\n",
       "a:visited.sk-estimator-doc-link {\n",
       "  float: right;\n",
       "  font-size: smaller;\n",
       "  line-height: 1em;\n",
       "  font-family: monospace;\n",
       "  background-color: var(--sklearn-color-background);\n",
       "  border-radius: 1em;\n",
       "  height: 1em;\n",
       "  width: 1em;\n",
       "  text-decoration: none !important;\n",
       "  margin-left: 1ex;\n",
       "  /* unfitted */\n",
       "  border: var(--sklearn-color-unfitted-level-1) 1pt solid;\n",
       "  color: var(--sklearn-color-unfitted-level-1);\n",
       "}\n",
       "\n",
       ".sk-estimator-doc-link.fitted,\n",
       "a:link.sk-estimator-doc-link.fitted,\n",
       "a:visited.sk-estimator-doc-link.fitted {\n",
       "  /* fitted */\n",
       "  border: var(--sklearn-color-fitted-level-1) 1pt solid;\n",
       "  color: var(--sklearn-color-fitted-level-1);\n",
       "}\n",
       "\n",
       "/* On hover */\n",
       "div.sk-estimator:hover .sk-estimator-doc-link:hover,\n",
       ".sk-estimator-doc-link:hover,\n",
       "div.sk-label-container:hover .sk-estimator-doc-link:hover,\n",
       ".sk-estimator-doc-link:hover {\n",
       "  /* unfitted */\n",
       "  background-color: var(--sklearn-color-unfitted-level-3);\n",
       "  color: var(--sklearn-color-background);\n",
       "  text-decoration: none;\n",
       "}\n",
       "\n",
       "div.sk-estimator.fitted:hover .sk-estimator-doc-link.fitted:hover,\n",
       ".sk-estimator-doc-link.fitted:hover,\n",
       "div.sk-label-container:hover .sk-estimator-doc-link.fitted:hover,\n",
       ".sk-estimator-doc-link.fitted:hover {\n",
       "  /* fitted */\n",
       "  background-color: var(--sklearn-color-fitted-level-3);\n",
       "  color: var(--sklearn-color-background);\n",
       "  text-decoration: none;\n",
       "}\n",
       "\n",
       "/* Span, style for the box shown on hovering the info icon */\n",
       ".sk-estimator-doc-link span {\n",
       "  display: none;\n",
       "  z-index: 9999;\n",
       "  position: relative;\n",
       "  font-weight: normal;\n",
       "  right: .2ex;\n",
       "  padding: .5ex;\n",
       "  margin: .5ex;\n",
       "  width: min-content;\n",
       "  min-width: 20ex;\n",
       "  max-width: 50ex;\n",
       "  color: var(--sklearn-color-text);\n",
       "  box-shadow: 2pt 2pt 4pt #999;\n",
       "  /* unfitted */\n",
       "  background: var(--sklearn-color-unfitted-level-0);\n",
       "  border: .5pt solid var(--sklearn-color-unfitted-level-3);\n",
       "}\n",
       "\n",
       ".sk-estimator-doc-link.fitted span {\n",
       "  /* fitted */\n",
       "  background: var(--sklearn-color-fitted-level-0);\n",
       "  border: var(--sklearn-color-fitted-level-3);\n",
       "}\n",
       "\n",
       ".sk-estimator-doc-link:hover span {\n",
       "  display: block;\n",
       "}\n",
       "\n",
       "/* \"?\"-specific style due to the `<a>` HTML tag */\n",
       "\n",
       "#sk-container-id-1 a.estimator_doc_link {\n",
       "  float: right;\n",
       "  font-size: 1rem;\n",
       "  line-height: 1em;\n",
       "  font-family: monospace;\n",
       "  background-color: var(--sklearn-color-background);\n",
       "  border-radius: 1rem;\n",
       "  height: 1rem;\n",
       "  width: 1rem;\n",
       "  text-decoration: none;\n",
       "  /* unfitted */\n",
       "  color: var(--sklearn-color-unfitted-level-1);\n",
       "  border: var(--sklearn-color-unfitted-level-1) 1pt solid;\n",
       "}\n",
       "\n",
       "#sk-container-id-1 a.estimator_doc_link.fitted {\n",
       "  /* fitted */\n",
       "  border: var(--sklearn-color-fitted-level-1) 1pt solid;\n",
       "  color: var(--sklearn-color-fitted-level-1);\n",
       "}\n",
       "\n",
       "/* On hover */\n",
       "#sk-container-id-1 a.estimator_doc_link:hover {\n",
       "  /* unfitted */\n",
       "  background-color: var(--sklearn-color-unfitted-level-3);\n",
       "  color: var(--sklearn-color-background);\n",
       "  text-decoration: none;\n",
       "}\n",
       "\n",
       "#sk-container-id-1 a.estimator_doc_link.fitted:hover {\n",
       "  /* fitted */\n",
       "  background-color: var(--sklearn-color-fitted-level-3);\n",
       "}\n",
       "</style><div id=\"sk-container-id-1\" class=\"sk-top-container\"><div class=\"sk-text-repr-fallback\"><pre>LogisticRegression(random_state=42, solver=&#x27;liblinear&#x27;)</pre><b>In a Jupyter environment, please rerun this cell to show the HTML representation or trust the notebook. <br />On GitHub, the HTML representation is unable to render, please try loading this page with nbviewer.org.</b></div><div class=\"sk-container\" hidden><div class=\"sk-item\"><div class=\"sk-estimator fitted sk-toggleable\"><input class=\"sk-toggleable__control sk-hidden--visually\" id=\"sk-estimator-id-1\" type=\"checkbox\" checked><label for=\"sk-estimator-id-1\" class=\"sk-toggleable__label fitted sk-toggleable__label-arrow fitted\">&nbsp;&nbsp;LogisticRegression<a class=\"sk-estimator-doc-link fitted\" rel=\"noreferrer\" target=\"_blank\" href=\"https://scikit-learn.org/1.5/modules/generated/sklearn.linear_model.LogisticRegression.html\">?<span>Documentation for LogisticRegression</span></a><span class=\"sk-estimator-doc-link fitted\">i<span>Fitted</span></span></label><div class=\"sk-toggleable__content fitted\"><pre>LogisticRegression(random_state=42, solver=&#x27;liblinear&#x27;)</pre></div> </div></div></div></div>"
      ],
      "text/plain": [
       "LogisticRegression(random_state=42, solver='liblinear')"
      ]
     },
     "execution_count": 18,
     "metadata": {},
     "output_type": "execute_result"
    }
   ],
   "source": [
    "#3\n",
    "model = LogisticRegression(solver = 'liblinear', random_state = 42) #liblinear is good for small datasets\n",
    "model.fit(X_train, y_train)"
   ]
  },
  {
   "cell_type": "code",
   "execution_count": 19,
   "id": "e033d2d7",
   "metadata": {},
   "outputs": [
    {
     "name": "stdout",
     "output_type": "stream",
     "text": [
      "              precision    recall  f1-score   support\n",
      "\n",
      "           0       0.66      1.00      0.79        52\n",
      "           1       1.00      0.04      0.07        28\n",
      "\n",
      "    accuracy                           0.66        80\n",
      "   macro avg       0.83      0.52      0.43        80\n",
      "weighted avg       0.78      0.66      0.54        80\n",
      "\n"
     ]
    }
   ],
   "source": [
    "#4\n",
    "y_pred = model.predict(X_test)\n",
    "report = classification_report(y_test, y_pred)\n",
    "print(report)"
   ]
  },
  {
   "cell_type": "markdown",
   "id": "62d55051",
   "metadata": {},
   "source": [
    "We have a huge problem here, the recall score for the 1 label is pretty bad\n",
    "\n",
    "The recall score of the label 1 tells us that the model only identified 4% of the true instances of class \n",
    "\n",
    "**But that can be fixed right? Well we can try**   "
   ]
  },
  {
   "cell_type": "markdown",
   "id": "649e55dc",
   "metadata": {},
   "source": [
    "## Fixing the disproportional data\n",
    "\n",
    "For better undertanding, this miss classification is normally caused by disproportional datasets, where one class have much more data then the other. \n",
    "\n",
    "* First lets check the **Purchased** data to see its proportion\n",
    "\n"
   ]
  },
  {
   "cell_type": "code",
   "execution_count": 20,
   "id": "8ed2aba6",
   "metadata": {},
   "outputs": [
    {
     "data": {
      "text/plain": [
       "Purchased\n",
       "0    0.6425\n",
       "1    0.3575\n",
       "Name: proportion, dtype: float64"
      ]
     },
     "execution_count": 20,
     "metadata": {},
     "output_type": "execute_result"
    }
   ],
   "source": [
    "#1\n",
    "df.Purchased.value_counts(1)"
   ]
  },
  {
   "cell_type": "markdown",
   "id": "a47633ec",
   "metadata": {},
   "source": [
    "Well that could have been worst, we have 64% of class 0 present in the data and 35% od class 1.\n",
    "\n",
    "Lets try to bring that to a 50/50 proportion with a technic called **SMOTE**, that creates data for the class that has less data.\n",
    "\n",
    "* **from imblearn.over_sampling import SMOTE**"
   ]
  },
  {
   "cell_type": "code",
   "execution_count": 21,
   "id": "d9d39f4b",
   "metadata": {},
   "outputs": [],
   "source": [
    "X = df.drop(columns = ['Purchased'], axis=1)\n",
    "y = df['Purchased']"
   ]
  },
  {
   "cell_type": "code",
   "execution_count": 22,
   "id": "099186a7",
   "metadata": {},
   "outputs": [],
   "source": [
    "from imblearn.over_sampling import SMOTE\n",
    "\n",
    "X_train, X_test, y_train, y_test = train_test_split(X, y, test_size=0.20, random_state=42)\n",
    "\n",
    "sm = SMOTE(random_state=42)\n",
    "\n",
    "X_train_SMOTE, y_train_SMOTE = sm.fit_resample(X_train, y_train)\n"
   ]
  },
  {
   "cell_type": "markdown",
   "id": "20399b76",
   "metadata": {},
   "source": [
    "### See that we have only applyed SMOTE after the train_test_split function?\n",
    "\n",
    "Well we did that to prevent **data leakage**, that can occur when information from outside the training dataset is used to create the model, and that can be a huge performance problem.\n",
    "\n",
    "If we apply SMOTE **after** the **train_test_split**:\n",
    "\n",
    "* The model is trained on a balanced dataset.\n",
    "\n",
    "* The test set remains representative of real-world data, often imbalanced.\n",
    "\n",
    "* The evaluation accurately reflects how the model will perform on unseen data.\n",
    "\n",
    "\n",
    "If we apply SMOTE **before** the **train_test_split**:\n",
    "\n",
    "* Synthetic samples are generated using information from the entire dataset.\n",
    "\n",
    "* Some of this synthetic information (based on test data) leaks into the training data.\n",
    "\n",
    "* The model sees data derived from the test set during training, leading to:\n",
    "    - Overfitting\n",
    "    - Unrealistic performance evaluation (too optimistic)"
   ]
  },
  {
   "cell_type": "code",
   "execution_count": 23,
   "id": "a88fd718",
   "metadata": {},
   "outputs": [
    {
     "name": "stdout",
     "output_type": "stream",
     "text": [
      "Class distribution before resampling: Counter({0: 205, 1: 115})\n",
      "Class distribution after resampling: Counter({0: 205, 1: 205})\n"
     ]
    }
   ],
   "source": [
    "from collections import Counter\n",
    "print(\"Class distribution before resampling:\", Counter(y_train))\n",
    "print(\"Class distribution after resampling:\", Counter(y_train_SMOTE))"
   ]
  },
  {
   "cell_type": "markdown",
   "id": "5d41fb94",
   "metadata": {},
   "source": [
    "After applying SMOTE we got a 50/50 proportion with 205 to class 0 and 205 to class 1.\n",
    "\n",
    "But thats not all, we might have a problem with our data when dealing with **Logistic Regression**, that is not the proportion, lets take a look at the distribution of the data in the Ages column and the EstimatedSalary."
   ]
  },
  {
   "cell_type": "code",
   "execution_count": 24,
   "id": "15577f31",
   "metadata": {},
   "outputs": [
    {
     "data": {
      "image/png": "[encoded data removed]",
      "text/plain": [
       "<Figure size 1400x600 with 2 Axes>"
      ]
     },
     "metadata": {},
     "output_type": "display_data"
    }
   ],
   "source": [
    "# Set plot style\n",
    "sns.set_style(\"whitegrid\")\n",
    "\n",
    "# Create figure and axes\n",
    "fig, axes = plt.subplots(1, 2, figsize=(14, 6))\n",
    "\n",
    "# Histogram for Ages\n",
    "sns.histplot(df[\"Age\"], bins=10, kde=True, color=\"blue\", alpha=0.6, ax=axes[0])\n",
    "axes[0].set_title(\"Age Distribution\", fontsize=14)\n",
    "axes[0].set_xlabel(\"Ages\")\n",
    "axes[0].set_ylabel(\"Frequency\")\n",
    "\n",
    "# Histogram for Estimated Salary\n",
    "sns.histplot(df[\"EstimatedSalary\"], bins=10, kde=True, color=\"green\", alpha=0.6, ax=axes[1])\n",
    "axes[1].set_title(\"Estimated Salary Distribution\", fontsize=14)\n",
    "axes[1].set_xlabel(\"Estimated Salary\")\n",
    "axes[1].set_ylabel(\"Frequency\")\n",
    "\n",
    "plt.tight_layout()\n",
    "plt.show()"
   ]
  },
  {
   "cell_type": "markdown",
   "id": "9b90723c",
   "metadata": {},
   "source": [
    "What we get from this graphs is that we have data that is very different from each other, because in age we have distributions from **10 -> 60**, and with salaries we have from **10000 -> 160000**, this are very different scales from each other. \n",
    "\n",
    "**But why is that a problem?**\n",
    "\n",
    "That can cause our model to think that salaries might be more important than age, prioritizing only one variable and making the optimization process imbalanced and slow."
   ]
  },
  {
   "cell_type": "markdown",
   "id": "c846385c",
   "metadata": {},
   "source": [
    "## Why is it bad to have this data spread like this?\n",
    "\n",
    "It is bad, because in the **Logistic Regression** model we have:\n",
    "\n",
    "*  Gradient Descent Convergence Issues\n",
    "\n",
    "    - The optimization algorithm Gradient Descent works best when all features area on a **similar scale**\n",
    "    - Large-scale features like salaries can cause some weights to be updated much faster than others, making convergence slow or even preventing it from reaching the global minimum.\n",
    "\n",
    "* Feature Importance Distortion\n",
    "\n",
    "    - The model assigns coefficients based on feature values.\n",
    "    - If one feature like salaries, has values much larger than others, its coefficient will also be disproportionately larger, which can distort the real importance of the feature.\n",
    "\n",
    "### **What can i do to solve this issues?**\n",
    "\n",
    "* We can use the Standard Scaler from **sklearn.preprocessing** module to transform data to have:\n",
    "\n",
    "    - Mean = 0\n",
    "    - Standard Deviation = 1\n",
    "\n",
    "* Standardizing the model puts everything in the same range, ensuring that no feature dominates just beacuse of its scale (salaries over age)."
   ]
  },
  {
   "cell_type": "code",
   "execution_count": 25,
   "id": "1d9a08dc",
   "metadata": {},
   "outputs": [],
   "source": [
    "from sklearn.preprocessing import StandardScaler\n",
    "# Define numeric and categorical columns\n",
    "numeric_features = ['Age', 'EstimatedSalary']\n",
    "gender_features = ['Gender']\n",
    "\n",
    "# Create a ColumnTransformer\n",
    "preprocessor = ColumnTransformer(\n",
    "    transformers=[\n",
    "        ('num', StandardScaler(), numeric_features),  # Apply StandardScaler to numeric features\n",
    "        ('cat', 'passthrough', gender_features)  # Leave Gender unchanged\n",
    "    ]\n",
    ")\n",
    "\n",
    "# Create a pipeline with preprocessing and Logistic Regression\n",
    "pipeline = Pipeline([\n",
    "    ('preprocess', preprocessor),\n",
    "    ('classifier', LogisticRegression(solver = 'liblinear' ,random_state=42))\n",
    "])\n",
    "\n",
    "# Fit the pipeline with the training data from SMOTE\n",
    "pipeline.fit(X_train_SMOTE, y_train_SMOTE)\n",
    "\n",
    "# Predict and evaluate\n",
    "y_pred = pipeline.predict(X_test)"
   ]
  },
  {
   "cell_type": "code",
   "execution_count": 26,
   "id": "2618da75",
   "metadata": {},
   "outputs": [
    {
     "name": "stdout",
     "output_type": "stream",
     "text": [
      "              precision    recall  f1-score   support\n",
      "\n",
      "           0       0.92      0.88      0.90        52\n",
      "           1       0.80      0.86      0.83        28\n",
      "\n",
      "    accuracy                           0.88        80\n",
      "   macro avg       0.86      0.87      0.86        80\n",
      "weighted avg       0.88      0.88      0.88        80\n",
      "\n"
     ]
    }
   ],
   "source": [
    "report = classification_report(y_test, y_pred)\n",
    "print(report)"
   ]
  },
  {
   "cell_type": "markdown",
   "id": "245b03fe",
   "metadata": {},
   "source": [
    "## Way better!\n",
    "\n",
    "By standardizing the data, we observed a significant improvement in our model's classification performance. This highlights the importance of having a well-balanced dataset with values that follow a consistent scale."
   ]
  },
  {
   "cell_type": "markdown",
   "id": "f46782a1",
   "metadata": {},
   "source": [
    "# To improve\n",
    "\n",
    "1. We`ve discovered that the gender has a **-0.042** Correlation Coefficient, a pretty low one. So can we remove the **Gender** column and have better results?\n",
    "2. Add a Pipeline to our first model, to improve the code.\n",
    "3. Try this dataset in other algorithms."
   ]
  }
 ],
 "metadata": {
  "kernelspec": {
   "display_name": "Python 3 (ipykernel)",
   "language": "python",
   "name": "python3"
  },
  "language_info": {
   "codemirror_mode": {
    "name": "ipython",
    "version": 3
   },
   "file_extension": ".py",
   "mimetype": "text/x-python",
   "name": "python",
   "nbconvert_exporter": "python",
   "pygments_lexer": "ipython3",
   "version": "3.12.2"
  }
 },
 "nbformat": 4,
 "nbformat_minor": 5
}
